{
  "nbformat": 4,
  "nbformat_minor": 0,
  "metadata": {
    "colab": {
      "name": "Untitled9.ipynb",
      "provenance": [],
      "authorship_tag": "ABX9TyPOH7jWqGsIOEa5Oh6Iu8yU",
      "include_colab_link": true
    },
    "kernelspec": {
      "name": "python3",
      "display_name": "Python 3"
    }
  },
  "cells": [
    {
      "cell_type": "markdown",
      "metadata": {
        "id": "view-in-github",
        "colab_type": "text"
      },
      "source": [
        "<a href=\"https://colab.research.google.com/github/pavithrapk98/task/blob/main/Untitled9.ipynb\" target=\"_parent\"><img src=\"https://colab.research.google.com/assets/colab-badge.svg\" alt=\"Open In Colab\"/></a>"
      ]
    },
    {
      "cell_type": "code",
      "metadata": {
        "id": "ztsNquZEb9JX"
      },
      "source": [
        "#Name:pavithra\r\n",
        "\r\n"
      ],
      "execution_count": null,
      "outputs": []
    },
    {
      "cell_type": "code",
      "metadata": {
        "id": "oQz0WAd5v0q-"
      },
      "source": [
        "#Stock Market Prediction using Numerical and Textual Analysis\r\n",
        "\r\n",
        "#Data Science and Business Analytics\r\n"
      ],
      "execution_count": null,
      "outputs": []
    },
    {
      "cell_type": "code",
      "metadata": {
        "id": "2gvmGMqySGBe"
      },
      "source": [
        "#import libraries\r\n",
        "load  the dataset\r\n",
        "Preprocessing the data\r\n",
        "Create an LSTM model\r\n",
        "test and train data\r\n",
        "Predict the test data\r\n",
        "Visualize the data\r\n",
        "Predict the future \r\n",
        "Visualize the output"
      ],
      "execution_count": null,
      "outputs": []
    },
    {
      "cell_type": "code",
      "metadata": {
        "id": "cDAAr0VYRNo0"
      },
      "source": [
        "import pandas_datareader as pd"
      ],
      "execution_count": null,
      "outputs": []
    },
    {
      "cell_type": "code",
      "metadata": {
        "id": "YJqzXaizb-eB"
      },
      "source": [
        "import os\r\n",
        "df=pdr.get_data_yahoo('ibm',start='2017-01-1',end='2020-12-05')"
      ],
      "execution_count": null,
      "outputs": []
    },
    {
      "cell_type": "code",
      "metadata": {
        "id": "-i7BOMJDSqYm"
      },
      "source": [
        "#top 5 of the data set"
      ],
      "execution_count": null,
      "outputs": []
    },
    {
      "cell_type": "code",
      "metadata": {
        "colab": {
          "base_uri": "https://localhost:8080/",
          "height": 225
        },
        "id": "5YxVF4DqcT3A",
        "outputId": "c4c93667-e5f2-481a-9c50-bbb0d687be95"
      },
      "source": [
        "df.head()"
      ],
      "execution_count": null,
      "outputs": [
        {
          "output_type": "execute_result",
          "data": {
            "text/html": [
              "<div>\n",
              "<style scoped>\n",
              "    .dataframe tbody tr th:only-of-type {\n",
              "        vertical-align: middle;\n",
              "    }\n",
              "\n",
              "    .dataframe tbody tr th {\n",
              "        vertical-align: top;\n",
              "    }\n",
              "\n",
              "    .dataframe thead th {\n",
              "        text-align: right;\n",
              "    }\n",
              "</style>\n",
              "<table border=\"1\" class=\"dataframe\">\n",
              "  <thead>\n",
              "    <tr style=\"text-align: right;\">\n",
              "      <th></th>\n",
              "      <th>High</th>\n",
              "      <th>Low</th>\n",
              "      <th>Open</th>\n",
              "      <th>Close</th>\n",
              "      <th>Volume</th>\n",
              "      <th>Adj Close</th>\n",
              "    </tr>\n",
              "    <tr>\n",
              "      <th>Date</th>\n",
              "      <th></th>\n",
              "      <th></th>\n",
              "      <th></th>\n",
              "      <th></th>\n",
              "      <th></th>\n",
              "      <th></th>\n",
              "    </tr>\n",
              "  </thead>\n",
              "  <tbody>\n",
              "    <tr>\n",
              "      <th>2017-01-03</th>\n",
              "      <td>167.869995</td>\n",
              "      <td>166.009995</td>\n",
              "      <td>167.000000</td>\n",
              "      <td>167.190002</td>\n",
              "      <td>2934300.0</td>\n",
              "      <td>139.613220</td>\n",
              "    </tr>\n",
              "    <tr>\n",
              "      <th>2017-01-04</th>\n",
              "      <td>169.869995</td>\n",
              "      <td>167.360001</td>\n",
              "      <td>167.770004</td>\n",
              "      <td>169.259995</td>\n",
              "      <td>3381400.0</td>\n",
              "      <td>141.341766</td>\n",
              "    </tr>\n",
              "    <tr>\n",
              "      <th>2017-01-05</th>\n",
              "      <td>169.389999</td>\n",
              "      <td>167.259995</td>\n",
              "      <td>169.250000</td>\n",
              "      <td>168.699997</td>\n",
              "      <td>2682300.0</td>\n",
              "      <td>140.874130</td>\n",
              "    </tr>\n",
              "    <tr>\n",
              "      <th>2017-01-06</th>\n",
              "      <td>169.919998</td>\n",
              "      <td>167.520004</td>\n",
              "      <td>168.690002</td>\n",
              "      <td>169.529999</td>\n",
              "      <td>2945500.0</td>\n",
              "      <td>141.567230</td>\n",
              "    </tr>\n",
              "    <tr>\n",
              "      <th>2017-01-09</th>\n",
              "      <td>169.800003</td>\n",
              "      <td>167.619995</td>\n",
              "      <td>169.470001</td>\n",
              "      <td>167.649994</td>\n",
              "      <td>3189900.0</td>\n",
              "      <td>139.997330</td>\n",
              "    </tr>\n",
              "  </tbody>\n",
              "</table>\n",
              "</div>"
            ],
            "text/plain": [
              "                  High         Low  ...     Volume   Adj Close\n",
              "Date                                ...                       \n",
              "2017-01-03  167.869995  166.009995  ...  2934300.0  139.613220\n",
              "2017-01-04  169.869995  167.360001  ...  3381400.0  141.341766\n",
              "2017-01-05  169.389999  167.259995  ...  2682300.0  140.874130\n",
              "2017-01-06  169.919998  167.520004  ...  2945500.0  141.567230\n",
              "2017-01-09  169.800003  167.619995  ...  3189900.0  139.997330\n",
              "\n",
              "[5 rows x 6 columns]"
            ]
          },
          "metadata": {
            "tags": []
          },
          "execution_count": 14
        }
      ]
    },
    {
      "cell_type": "code",
      "metadata": {
        "id": "rHX8J8GtcXCG"
      },
      "source": [
        "df.to_csv('ibm.csv')"
      ],
      "execution_count": null,
      "outputs": []
    },
    {
      "cell_type": "code",
      "metadata": {
        "id": "tw9bn0fpca1n"
      },
      "source": [
        "import pandas as pd"
      ],
      "execution_count": null,
      "outputs": []
    },
    {
      "cell_type": "code",
      "metadata": {
        "id": "RMxzMUWIchva"
      },
      "source": [
        "data=pd.read_csv('ibm.csv')"
      ],
      "execution_count": null,
      "outputs": []
    },
    {
      "cell_type": "code",
      "metadata": {
        "colab": {
          "base_uri": "https://localhost:8080/",
          "height": 195
        },
        "id": "q3ImNVhgenmr",
        "outputId": "5ab9fd69-76fa-47c1-8d08-235ca42409f3"
      },
      "source": [
        "data.head()"
      ],
      "execution_count": null,
      "outputs": [
        {
          "output_type": "execute_result",
          "data": {
            "text/html": [
              "<div>\n",
              "<style scoped>\n",
              "    .dataframe tbody tr th:only-of-type {\n",
              "        vertical-align: middle;\n",
              "    }\n",
              "\n",
              "    .dataframe tbody tr th {\n",
              "        vertical-align: top;\n",
              "    }\n",
              "\n",
              "    .dataframe thead th {\n",
              "        text-align: right;\n",
              "    }\n",
              "</style>\n",
              "<table border=\"1\" class=\"dataframe\">\n",
              "  <thead>\n",
              "    <tr style=\"text-align: right;\">\n",
              "      <th></th>\n",
              "      <th>Date</th>\n",
              "      <th>High</th>\n",
              "      <th>Low</th>\n",
              "      <th>Open</th>\n",
              "      <th>Close</th>\n",
              "      <th>Volume</th>\n",
              "      <th>Adj Close</th>\n",
              "    </tr>\n",
              "  </thead>\n",
              "  <tbody>\n",
              "    <tr>\n",
              "      <th>0</th>\n",
              "      <td>2017-01-03</td>\n",
              "      <td>167.869995</td>\n",
              "      <td>166.009995</td>\n",
              "      <td>167.000000</td>\n",
              "      <td>167.190002</td>\n",
              "      <td>2934300.0</td>\n",
              "      <td>139.613220</td>\n",
              "    </tr>\n",
              "    <tr>\n",
              "      <th>1</th>\n",
              "      <td>2017-01-04</td>\n",
              "      <td>169.869995</td>\n",
              "      <td>167.360001</td>\n",
              "      <td>167.770004</td>\n",
              "      <td>169.259995</td>\n",
              "      <td>3381400.0</td>\n",
              "      <td>141.341766</td>\n",
              "    </tr>\n",
              "    <tr>\n",
              "      <th>2</th>\n",
              "      <td>2017-01-05</td>\n",
              "      <td>169.389999</td>\n",
              "      <td>167.259995</td>\n",
              "      <td>169.250000</td>\n",
              "      <td>168.699997</td>\n",
              "      <td>2682300.0</td>\n",
              "      <td>140.874130</td>\n",
              "    </tr>\n",
              "    <tr>\n",
              "      <th>3</th>\n",
              "      <td>2017-01-06</td>\n",
              "      <td>169.919998</td>\n",
              "      <td>167.520004</td>\n",
              "      <td>168.690002</td>\n",
              "      <td>169.529999</td>\n",
              "      <td>2945500.0</td>\n",
              "      <td>141.567230</td>\n",
              "    </tr>\n",
              "    <tr>\n",
              "      <th>4</th>\n",
              "      <td>2017-01-09</td>\n",
              "      <td>169.800003</td>\n",
              "      <td>167.619995</td>\n",
              "      <td>169.470001</td>\n",
              "      <td>167.649994</td>\n",
              "      <td>3189900.0</td>\n",
              "      <td>139.997330</td>\n",
              "    </tr>\n",
              "  </tbody>\n",
              "</table>\n",
              "</div>"
            ],
            "text/plain": [
              "         Date        High         Low  ...       Close     Volume   Adj Close\n",
              "0  2017-01-03  167.869995  166.009995  ...  167.190002  2934300.0  139.613220\n",
              "1  2017-01-04  169.869995  167.360001  ...  169.259995  3381400.0  141.341766\n",
              "2  2017-01-05  169.389999  167.259995  ...  168.699997  2682300.0  140.874130\n",
              "3  2017-01-06  169.919998  167.520004  ...  169.529999  2945500.0  141.567230\n",
              "4  2017-01-09  169.800003  167.619995  ...  167.649994  3189900.0  139.997330\n",
              "\n",
              "[5 rows x 7 columns]"
            ]
          },
          "metadata": {
            "tags": []
          },
          "execution_count": 18
        }
      ]
    },
    {
      "cell_type": "code",
      "metadata": {
        "id": "ABK2F2RietKr"
      },
      "source": [
        "data1=data.reset_index()['Close']\r\n"
      ],
      "execution_count": null,
      "outputs": []
    },
    {
      "cell_type": "code",
      "metadata": {
        "colab": {
          "base_uri": "https://localhost:8080/"
        },
        "id": "VSsf51p0fQjg",
        "outputId": "d849273e-fece-4b70-d848-7aaf91340106"
      },
      "source": [
        "\r\n",
        "data1"
      ],
      "execution_count": null,
      "outputs": [
        {
          "output_type": "execute_result",
          "data": {
            "text/plain": [
              "0      167.190002\n",
              "1      169.259995\n",
              "2      168.699997\n",
              "3      169.529999\n",
              "4      167.649994\n",
              "          ...    \n",
              "984    123.519997\n",
              "985    123.160004\n",
              "986    124.620003\n",
              "987    123.610001\n",
              "988    127.199997\n",
              "Name: Close, Length: 989, dtype: float64"
            ]
          },
          "metadata": {
            "tags": []
          },
          "execution_count": 20
        }
      ]
    },
    {
      "cell_type": "code",
      "metadata": {
        "colab": {
          "base_uri": "https://localhost:8080/",
          "height": 282
        },
        "id": "6MSxcL74fsPu",
        "outputId": "c6e95d92-42c8-4c5e-b482-57a0e7664870"
      },
      "source": [
        "plt.plot(data1)\r\n"
      ],
      "execution_count": null,
      "outputs": [
        {
          "output_type": "execute_result",
          "data": {
            "text/plain": [
              "[<matplotlib.lines.Line2D at 0x7fe933051b38>]"
            ]
          },
          "metadata": {
            "tags": []
          },
          "execution_count": 21
        },
        {
          "output_type": "display_data",
          "data": {
            "image/png": "[encoded data removed]",
            "text/plain": [
              "<Figure size 432x288 with 1 Axes>"
            ]
          },
          "metadata": {
            "tags": [],
            "needs_background": "light"
          }
        }
      ]
    },
    {
      "cell_type": "code",
      "metadata": {
        "colab": {
          "base_uri": "https://localhost:8080/"
        },
        "id": "_N-aK_G_fxUt",
        "outputId": "a6ded465-64c6-439b-d021-6b5d4a59f2d1"
      },
      "source": [
        "data1\r\n"
      ],
      "execution_count": null,
      "outputs": [
        {
          "output_type": "execute_result",
          "data": {
            "text/plain": [
              "0      167.190002\n",
              "1      169.259995\n",
              "2      168.699997\n",
              "3      169.529999\n",
              "4      167.649994\n",
              "          ...    \n",
              "984    123.519997\n",
              "985    123.160004\n",
              "986    124.620003\n",
              "987    123.610001\n",
              "988    127.199997\n",
              "Name: Close, Length: 989, dtype: float64"
            ]
          },
          "metadata": {
            "tags": []
          },
          "execution_count": 22
        }
      ]
    },
    {
      "cell_type": "code",
      "metadata": {
        "id": "aLxy7M2ef1-e"
      },
      "source": [
        "import numpy as np"
      ],
      "execution_count": null,
      "outputs": []
    },
    {
      "cell_type": "code",
      "metadata": {
        "id": "kwtHmy60f6oA"
      },
      "source": [
        "from sklearn.preprocessing import MinMaxScaler\r\n",
        "scaler=MinMaxScaler(feature_range=(0,1))\r\n",
        "data1=scaler.fit_transform(np.array(data1).reshape(-1,1))\r\n"
      ],
      "execution_count": null,
      "outputs": []
    },
    {
      "cell_type": "code",
      "metadata": {
        "colab": {
          "base_uri": "https://localhost:8080/"
        },
        "id": "yhuMxWgyf-P7",
        "outputId": "f4edeb3c-26f1-4a00-d05f-ea08d0a9dd69"
      },
      "source": [
        "data1"
      ],
      "execution_count": null,
      "outputs": [
        {
          "output_type": "execute_result",
          "data": {
            "text/plain": [
              "array([[0.83069518],\n",
              "       [0.85443906],\n",
              "       [0.8480156 ],\n",
              "       [0.85753615],\n",
              "       [0.83597152],\n",
              "       [0.81153943],\n",
              "       [0.83711864],\n",
              "       [0.83941271],\n",
              "       [0.83241569],\n",
              "       [0.83872451],\n",
              "       [0.82622168],\n",
              "       [0.82633632],\n",
              "       [0.86923613],\n",
              "       [0.87474193],\n",
              "       [0.93060331],\n",
              "       [0.95801785],\n",
              "       [0.96226206],\n",
              "       [0.94666215],\n",
              "       [0.92945637],\n",
              "       [0.91477412],\n",
              "       [0.91213577],\n",
              "       [0.91546232],\n",
              "       [0.92968583],\n",
              "       [0.93014457],\n",
              "       [0.95996799],\n",
              "       [0.9337004 ],\n",
              "       [0.94562984],\n",
              "       [0.96249135],\n",
              "       [0.97029139],\n",
              "       [0.97912374],\n",
              "       [0.99690291],\n",
              "       [0.99403528],\n",
              "       [0.98531775],\n",
              "       [0.98061479],\n",
              "       [0.99082355],\n",
              "       [0.99655881],\n",
              "       [0.99311779],\n",
              "       [0.97075014],\n",
              "       [0.97556791],\n",
              "       [1.        ],\n",
              "       [0.98371188],\n",
              "       [0.97820608],\n",
              "       [0.98302368],\n",
              "       [0.98199137],\n",
              "       [0.9713237 ],\n",
              "       [0.94528557],\n",
              "       [0.95274151],\n",
              "       [0.93702695],\n",
              "       [0.9285387 ],\n",
              "       [0.92957101],\n",
              "       [0.94597395],\n",
              "       [0.92773568],\n",
              "       [0.92830925],\n",
              "       [0.90743299],\n",
              "       [0.91775639],\n",
              "       [0.91821531],\n",
              "       [0.90685943],\n",
              "       [0.90617122],\n",
              "       [0.9146593 ],\n",
              "       [0.90812119],\n",
              "       [0.90720353],\n",
              "       [0.91041526],\n",
              "       [0.91454466],\n",
              "       [0.91477412],\n",
              "       [0.89596247],\n",
              "       [0.89103005],\n",
              "       [0.88747422],\n",
              "       [0.8766919 ],\n",
              "       [0.86958024],\n",
              "       [0.8704979 ],\n",
              "       [0.85753615],\n",
              "       [0.87554496],\n",
              "       [0.86350087],\n",
              "       [0.76760731],\n",
              "       [0.77460434],\n",
              "       [0.75258096],\n",
              "       [0.756825  ],\n",
              "       [0.7526956 ],\n",
              "       [0.74891031],\n",
              "       [0.75189276],\n",
              "       [0.75154848],\n",
              "       [0.73491626],\n",
              "       [0.73789871],\n",
              "       [0.73250755],\n",
              "       [0.73732515],\n",
              "       [0.69144306],\n",
              "       [0.66827256],\n",
              "       [0.6577197 ],\n",
              "       [0.64785505],\n",
              "       [0.64097267],\n",
              "       [0.63776093],\n",
              "       [0.65083732],\n",
              "       [0.67572833],\n",
              "       [0.6441844 ],\n",
              "       [0.64246389],\n",
              "       [0.65622848],\n",
              "       [0.66379907],\n",
              "       [0.65680204],\n",
              "       [0.66230784],\n",
              "       [0.67022253],\n",
              "       [0.66207856],\n",
              "       [0.65336085],\n",
              "       [0.66368442],\n",
              "       [0.66414317],\n",
              "       [0.6570315 ],\n",
              "       [0.66116089],\n",
              "       [0.66070198],\n",
              "       [0.64475796],\n",
              "       [0.65760506],\n",
              "       [0.6805461 ],\n",
              "       [0.69293411],\n",
              "       [0.68226661],\n",
              "       [0.67721955],\n",
              "       [0.68192251],\n",
              "       [0.69522836],\n",
              "       [0.68903418],\n",
              "       [0.69029594],\n",
              "       [0.67699009],\n",
              "       [0.68398712],\n",
              "       [0.68066075],\n",
              "       [0.69350767],\n",
              "       [0.68800187],\n",
              "       [0.69454015],\n",
              "       [0.6808902 ],\n",
              "       [0.67744901],\n",
              "       [0.69752242],\n",
              "       [0.67561369],\n",
              "       [0.66058733],\n",
              "       [0.66724026],\n",
              "       [0.67274606],\n",
              "       [0.67010789],\n",
              "       [0.67595779],\n",
              "       [0.67515494],\n",
              "       [0.68215197],\n",
              "       [0.6680431 ],\n",
              "       [0.67939898],\n",
              "       [0.6051847 ],\n",
              "       [0.60667592],\n",
              "       [0.600023  ],\n",
              "       [0.58752017],\n",
              "       [0.58981424],\n",
              "       [0.58029369],\n",
              "       [0.57696731],\n",
              "       [0.56802015],\n",
              "       [0.572379  ],\n",
              "       [0.57960549],\n",
              "       [0.56985547],\n",
              "       [0.57547609],\n",
              "       [0.57799962],\n",
              "       [0.55861441],\n",
              "       [0.5430145 ],\n",
              "       [0.53911456],\n",
              "       [0.53991741],\n",
              "       [0.53991741],\n",
              "       [0.54542338],\n",
              "       [0.54255575],\n",
              "       [0.54748799],\n",
              "       [0.52684102],\n",
              "       [0.5153705 ],\n",
              "       [0.52259698],\n",
              "       [0.53039685],\n",
              "       [0.5433586 ],\n",
              "       [0.55253505],\n",
              "       [0.5617115 ],\n",
              "       [0.54760263],\n",
              "       [0.55482912],\n",
              "       [0.5481762 ],\n",
              "       [0.55356735],\n",
              "       [0.56561144],\n",
              "       [0.553682  ],\n",
              "       [0.56262916],\n",
              "       [0.55207613],\n",
              "       [0.54691443],\n",
              "       [0.57455843],\n",
              "       [0.58488183],\n",
              "       [0.58752017],\n",
              "       [0.5823583 ],\n",
              "       [0.57409968],\n",
              "       [0.5710026 ],\n",
              "       [0.56916727],\n",
              "       [0.58625841],\n",
              "       [0.57914657],\n",
              "       [0.57765552],\n",
              "       [0.58614359],\n",
              "       [0.59405828],\n",
              "       [0.58373488],\n",
              "       [0.58373488],\n",
              "       [0.57708196],\n",
              "       [0.5952054 ],\n",
              "       [0.59658181],\n",
              "       [0.59314062],\n",
              "       [0.5958936 ],\n",
              "       [0.59314062],\n",
              "       [0.60357883],\n",
              "       [0.61631112],\n",
              "       [0.606217  ],\n",
              "       [0.59944944],\n",
              "       [0.60025246],\n",
              "       [0.59715537],\n",
              "       [0.59382882],\n",
              "       [0.74283095],\n",
              "       [0.7585455 ],\n",
              "       [0.77196617],\n",
              "       [0.74306041],\n",
              "       [0.70096362],\n",
              "       [0.67366372],\n",
              "       [0.67481084],\n",
              "       [0.67572833],\n",
              "       [0.68352838],\n",
              "       [0.68008718],\n",
              "       [0.67974308],\n",
              "       [0.67194321],\n",
              "       [0.65164034],\n",
              "       [0.64315209],\n",
              "       [0.64900217],\n",
              "       [0.6515257 ],\n",
              "       [0.63695809],\n",
              "       [0.6238817 ],\n",
              "       [0.61516399],\n",
              "       [0.62078461],\n",
              "       [0.60025246],\n",
              "       [0.62342278],\n",
              "       [0.62170228],\n",
              "       [0.6393668 ],\n",
              "       [0.65588438],\n",
              "       [0.65381977],\n",
              "       [0.65462261],\n",
              "       [0.65622848],\n",
              "       [0.6618491 ],\n",
              "       [0.67423728],\n",
              "       [0.67905488],\n",
              "       [0.68811651],\n",
              "       [0.70761654],\n",
              "       [0.69488425],\n",
              "       [0.6805461 ],\n",
              "       [0.67446674],\n",
              "       [0.68869007],\n",
              "       [0.69557246],\n",
              "       [0.71082827],\n",
              "       [0.67836668],\n",
              "       [0.67939898],\n",
              "       [0.6621932 ],\n",
              "       [0.67171375],\n",
              "       [0.67056663],\n",
              "       [0.6673549 ],\n",
              "       [0.65072268],\n",
              "       [0.6621932 ],\n",
              "       [0.66597849],\n",
              "       [0.66941968],\n",
              "       [0.67985772],\n",
              "       [0.67274606],\n",
              "       [0.68226661],\n",
              "       [0.73090168],\n",
              "       [0.76772196],\n",
              "       [0.77678376],\n",
              "       [0.78802483],\n",
              "       [0.79215422],\n",
              "       [0.7961688 ],\n",
              "       [0.79639826],\n",
              "       [0.78423953],\n",
              "       [0.79238368],\n",
              "       [0.84744204],\n",
              "       [0.8528332 ],\n",
              "       [0.77540718],\n",
              "       [0.77804553],\n",
              "       [0.81991286],\n",
              "       [0.80981875],\n",
              "       [0.81096587],\n",
              "       [0.83241569],\n",
              "       [0.82622168],\n",
              "       [0.78974533],\n",
              "       [0.790663  ],\n",
              "       [0.77575128],\n",
              "       [0.73709569],\n",
              "       [0.6625373 ],\n",
              "       [0.69476944],\n",
              "       [0.67767847],\n",
              "       [0.6058729 ],\n",
              "       [0.62789628],\n",
              "       [0.64957556],\n",
              "       [0.64211979],\n",
              "       [0.68811651],\n",
              "       [0.70245466],\n",
              "       [0.70440463],\n",
              "       [0.69270483],\n",
              "       [0.67894024],\n",
              "       [0.66999307],\n",
              "       [0.69683422],\n",
              "       [0.73193399],\n",
              "       [0.70864884],\n",
              "       [0.70039005],\n",
              "       [0.67721955],\n",
              "       [0.6850196 ],\n",
              "       [0.71323698],\n",
              "       [0.69912829],\n",
              "       [0.72895171],\n",
              "       [0.70474891],\n",
              "       [0.74030742],\n",
              "       [0.75120438],\n",
              "       [0.74042224],\n",
              "       [0.72665747],\n",
              "       [0.74374861],\n",
              "       [0.75120438],\n",
              "       [0.7178253 ],\n",
              "       [0.70463409],\n",
              "       [0.71025471],\n",
              "       [0.65749024],\n",
              "       [0.62078461],\n",
              "       [0.6721725 ],\n",
              "       [0.65542563],\n",
              "       [0.66242266],\n",
              "       [0.6728607 ],\n",
              "       [0.63431992],\n",
              "       [0.63179639],\n",
              "       [0.68077539],\n",
              "       [0.67974308],\n",
              "       [0.64005518],\n",
              "       [0.66437263],\n",
              "       [0.695343  ],\n",
              "       [0.6949989 ],\n",
              "       [0.72608408],\n",
              "       [0.71048417],\n",
              "       [0.7240193 ],\n",
              "       [0.75866032],\n",
              "       [0.61963749],\n",
              "       [0.60713467],\n",
              "       [0.57501717],\n",
              "       [0.58602895],\n",
              "       [0.58258776],\n",
              "       [0.58694661],\n",
              "       [0.5958936 ],\n",
              "       [0.59314062],\n",
              "       [0.57570555],\n",
              "       [0.57616429],\n",
              "       [0.54691443],\n",
              "       [0.54163809],\n",
              "       [0.56366147],\n",
              "       [0.55574678],\n",
              "       [0.55322325],\n",
              "       [0.54874976],\n",
              "       [0.56744676],\n",
              "       [0.56629964],\n",
              "       [0.56813496],\n",
              "       [0.5617115 ],\n",
              "       [0.57192026],\n",
              "       [0.57042903],\n",
              "       [0.56561144],\n",
              "       [0.58178491],\n",
              "       [0.5771966 ],\n",
              "       [0.572379  ],\n",
              "       [0.56549679],\n",
              "       [0.56056438],\n",
              "       [0.53280574],\n",
              "       [0.5488644 ],\n",
              "       [0.53383804],\n",
              "       [0.54117917],\n",
              "       [0.553682  ],\n",
              "       [0.56125258],\n",
              "       [0.57283792],\n",
              "       [0.58029369],\n",
              "       [0.58924068],\n",
              "       [0.59428774],\n",
              "       [0.59761411],\n",
              "       [0.59164957],\n",
              "       [0.57845836],\n",
              "       [0.58063779],\n",
              "       [0.57019957],\n",
              "       [0.56354665],\n",
              "       [0.54897922],\n",
              "       [0.53314984],\n",
              "       [0.53349394],\n",
              "       [0.50493228],\n",
              "       [0.50825883],\n",
              "       [0.48990593],\n",
              "       [0.51927043],\n",
              "       [0.5153705 ],\n",
              "       [0.51720582],\n",
              "       [0.51387945],\n",
              "       [0.53521445],\n",
              "       [0.54725853],\n",
              "       [0.56916727],\n",
              "       [0.57283792],\n",
              "       [0.57547609],\n",
              "       [0.59279651],\n",
              "       [0.58648769],\n",
              "       [0.58144081],\n",
              "       [0.55884387],\n",
              "       [0.57065849],\n",
              "       [0.62479937],\n",
              "       [0.59164957],\n",
              "       [0.58419362],\n",
              "       [0.59199367],\n",
              "       [0.59474648],\n",
              "       [0.59577896],\n",
              "       [0.5778848 ],\n",
              "       [0.58178491],\n",
              "       [0.57536127],\n",
              "       [0.55895851],\n",
              "       [0.55276451],\n",
              "       [0.60713467],\n",
              "       [0.58797892],\n",
              "       [0.59921998],\n",
              "       [0.59784357],\n",
              "       [0.57352612],\n",
              "       [0.57019957],\n",
              "       [0.54989688],\n",
              "       [0.55735265],\n",
              "       [0.56366147],\n",
              "       [0.58006423],\n",
              "       [0.58832302],\n",
              "       [0.59348472],\n",
              "       [0.58729071],\n",
              "       [0.57891728],\n",
              "       [0.58040833],\n",
              "       [0.58809356],\n",
              "       [0.5955495 ],\n",
              "       [0.59440238],\n",
              "       [0.60529934],\n",
              "       [0.58683179],\n",
              "       [0.59314062],\n",
              "       [0.58396416],\n",
              "       [0.5952054 ],\n",
              "       [0.59210831],\n",
              "       [0.58132599],\n",
              "       [0.58362006],\n",
              "       [0.59325543],\n",
              "       [0.5941731 ],\n",
              "       [0.62147282],\n",
              "       [0.61436115],\n",
              "       [0.60988765],\n",
              "       [0.61699932],\n",
              "       [0.62273458],\n",
              "       [0.64670793],\n",
              "       [0.64900217],\n",
              "       [0.633861  ],\n",
              "       [0.62101407],\n",
              "       [0.65198444],\n",
              "       [0.65072268],\n",
              "       [0.64739631],\n",
              "       [0.66792846],\n",
              "       [0.67653135],\n",
              "       [0.67045199],\n",
              "       [0.64854325],\n",
              "       [0.62239048],\n",
              "       [0.61504935],\n",
              "       [0.60185832],\n",
              "       [0.54966742],\n",
              "       [0.50757063],\n",
              "       [0.5285617 ],\n",
              "       [0.53177344],\n",
              "       [0.5775407 ],\n",
              "       [0.45056213],\n",
              "       [0.4104153 ],\n",
              "       [0.39378308],\n",
              "       [0.40433594],\n",
              "       [0.41798589],\n",
              "       [0.37210372],\n",
              "       [0.3633861 ],\n",
              "       [0.34434508],\n",
              "       [0.28527188],\n",
              "       [0.2366369 ],\n",
              "       [0.236981  ],\n",
              "       [0.25303975],\n",
              "       [0.2397339 ],\n",
              "       [0.29008948],\n",
              "       [0.32518933],\n",
              "       [0.34491855],\n",
              "       [0.3281716 ],\n",
              "       [0.33000693],\n",
              "       [0.29972476],\n",
              "       [0.29903647],\n",
              "       [0.29169535],\n",
              "       [0.30591885],\n",
              "       [0.30740999],\n",
              "       [0.29295711],\n",
              "       [0.25728378],\n",
              "       [0.27299843],\n",
              "       [0.25716914],\n",
              "       [0.28435422],\n",
              "       [0.28974538],\n",
              "       [0.32381284],\n",
              "       [0.30637769],\n",
              "       [0.33838036],\n",
              "       [0.35030971],\n",
              "       [0.30775409],\n",
              "       [0.33425105],\n",
              "       [0.28183069],\n",
              "       [0.30236293],\n",
              "       [0.29961003],\n",
              "       [0.30270712],\n",
              "       [0.29777479],\n",
              "       [0.28825424],\n",
              "       [0.24466623],\n",
              "       [0.25097505],\n",
              "       [0.24845152],\n",
              "       [0.209337  ],\n",
              "       [0.18547839],\n",
              "       [0.1468227 ],\n",
              "       [0.19064009],\n",
              "       [0.21805462],\n",
              "       [0.20945173],\n",
              "       [0.21679286],\n",
              "       [0.23445747],\n",
              "       [0.20807533],\n",
              "       [0.25866028],\n",
              "       [0.26818083],\n",
              "       [0.28745131],\n",
              "       [0.29731596],\n",
              "       [0.30993352],\n",
              "       [0.30614823],\n",
              "       [0.29387477],\n",
              "       [0.30924532],\n",
              "       [0.30798355],\n",
              "       [0.31452174],\n",
              "       [0.33321866],\n",
              "       [0.31830695],\n",
              "       [0.43725628],\n",
              "       [0.43312689],\n",
              "       [0.44964446],\n",
              "       [0.45308566],\n",
              "       [0.45377386],\n",
              "       [0.45434742],\n",
              "       [0.45480616],\n",
              "       [0.45113569],\n",
              "       [0.46363851],\n",
              "       [0.46776791],\n",
              "       [0.47660026],\n",
              "       [0.44069747],\n",
              "       [0.44666219],\n",
              "       [0.44987392],\n",
              "       [0.47350317],\n",
              "       [0.49036485],\n",
              "       [0.47843541],\n",
              "       [0.49621475],\n",
              "       [0.50389998],\n",
              "       [0.49587065],\n",
              "       [0.49403532],\n",
              "       [0.5102088 ],\n",
              "       [0.51261769],\n",
              "       [0.51559996],\n",
              "       [0.50929114],\n",
              "       [0.49736187],\n",
              "       [0.50963524],\n",
              "       [0.50080289],\n",
              "       [0.49449424],\n",
              "       [0.48417067],\n",
              "       [0.46558848],\n",
              "       [0.46249139],\n",
              "       [0.49254428],\n",
              "       [0.49908238],\n",
              "       [0.50229411],\n",
              "       [0.50493228],\n",
              "       [0.51227341],\n",
              "       [0.52122058],\n",
              "       [0.52443231],\n",
              "       [0.51422355],\n",
              "       [0.53532927],\n",
              "       [0.51250287],\n",
              "       [0.50940578],\n",
              "       [0.52133522],\n",
              "       [0.51009416],\n",
              "       [0.51789403],\n",
              "       [0.53142933],\n",
              "       [0.55666444],\n",
              "       [0.55322325],\n",
              "       [0.56044974],\n",
              "       [0.55069972],\n",
              "       [0.55643498],\n",
              "       [0.55769675],\n",
              "       [0.5430145 ],\n",
              "       [0.55345271],\n",
              "       [0.56217025],\n",
              "       [0.56870853],\n",
              "       [0.56354665],\n",
              "       [0.57777016],\n",
              "       [0.50860293],\n",
              "       [0.52259698],\n",
              "       [0.50607941],\n",
              "       [0.52385875],\n",
              "       [0.51823813],\n",
              "       [0.50309713],\n",
              "       [0.51238823],\n",
              "       [0.50791473],\n",
              "       [0.52190878],\n",
              "       [0.52523515],\n",
              "       [0.51410874],\n",
              "       [0.52167932],\n",
              "       [0.52317054],\n",
              "       [0.49174125],\n",
              "       [0.49587065],\n",
              "       [0.46535902],\n",
              "       [0.46512974],\n",
              "       [0.4203946 ],\n",
              "       [0.44207388],\n",
              "       [0.4545767 ],\n",
              "       [0.4715532 ],\n",
              "       [0.45365922],\n",
              "       [0.46283549],\n",
              "       [0.47809131],\n",
              "       [0.47694436],\n",
              "       [0.43152102],\n",
              "       [0.43025926],\n",
              "       [0.409383  ],\n",
              "       [0.40055065],\n",
              "       [0.39917424],\n",
              "       [0.36958019],\n",
              "       [0.38426253],\n",
              "       [0.43496221],\n",
              "       [0.42119762],\n",
              "       [0.42957105],\n",
              "       [0.44207388],\n",
              "       [0.45847681],\n",
              "       [0.47235605],\n",
              "       [0.45996786],\n",
              "       [0.47017662],\n",
              "       [0.4631796 ],\n",
              "       [0.46088553],\n",
              "       [0.47728846],\n",
              "       [0.48531779],\n",
              "       [0.50562066],\n",
              "       [0.50963524],\n",
              "       [0.51135592],\n",
              "       [0.50000004],\n",
              "       [0.50183537],\n",
              "       [0.50183537],\n",
              "       [0.49472353],\n",
              "       [0.51743528],\n",
              "       [0.52133522],\n",
              "       [0.53647622],\n",
              "       [0.53464107],\n",
              "       [0.52534997],\n",
              "       [0.51112646],\n",
              "       [0.52420285],\n",
              "       [0.5330352 ],\n",
              "       [0.55024098],\n",
              "       [0.5568939 ],\n",
              "       [0.55930261],\n",
              "       [0.55402627],\n",
              "       [0.62927286],\n",
              "       [0.62984625],\n",
              "       [0.63053463],\n",
              "       [0.63787575],\n",
              "       [0.633861  ],\n",
              "       [0.63799039],\n",
              "       [0.64911681],\n",
              "       [0.64361101],\n",
              "       [0.63087873],\n",
              "       [0.61332884],\n",
              "       [0.63718755],\n",
              "       [0.60197297],\n",
              "       [0.52752922],\n",
              "       [0.52718512],\n",
              "       [0.50860293],\n",
              "       [0.51995881],\n",
              "       [0.47442083],\n",
              "       [0.44620327],\n",
              "       [0.47052072],\n",
              "       [0.41844463],\n",
              "       [0.42612986],\n",
              "       [0.44723558],\n",
              "       [0.46191783],\n",
              "       [0.43851805],\n",
              "       [0.4528562 ],\n",
              "       [0.45365922],\n",
              "       [0.39917424],\n",
              "       [0.40399184],\n",
              "       [0.41752697],\n",
              "       [0.43576506],\n",
              "       [0.46008268],\n",
              "       [0.46753845],\n",
              "       [0.45113569],\n",
              "       [0.47660026],\n",
              "       [0.52993811],\n",
              "       [0.52534997],\n",
              "       [0.54863511],\n",
              "       [0.57673786],\n",
              "       [0.56010564],\n",
              "       [0.56033492],\n",
              "       [0.56090848],\n",
              "       [0.54725853],\n",
              "       [0.5440468 ],\n",
              "       [0.54427626],\n",
              "       [0.55287915],\n",
              "       [0.54037633],\n",
              "       [0.54255575],\n",
              "       [0.53808208],\n",
              "       [0.55505858],\n",
              "       [0.55953207],\n",
              "       [0.55597624],\n",
              "       [0.58098189],\n",
              "       [0.56079384],\n",
              "       [0.5381969 ],\n",
              "       [0.54198219],\n",
              "       [0.55310861],\n",
              "       [0.53349394],\n",
              "       [0.5002295 ],\n",
              "       [0.5150264 ],\n",
              "       [0.53177344],\n",
              "       [0.55047026],\n",
              "       [0.54221148],\n",
              "       [0.55322325],\n",
              "       [0.5430145 ],\n",
              "       [0.45297084],\n",
              "       [0.45102087],\n",
              "       [0.43370045],\n",
              "       [0.44952982],\n",
              "       [0.45434742],\n",
              "       [0.45079159],\n",
              "       [0.46650614],\n",
              "       [0.47258551],\n",
              "       [0.44792396],\n",
              "       [0.46432672],\n",
              "       [0.44689148],\n",
              "       [0.46753845],\n",
              "       [0.49208536],\n",
              "       [0.49460889],\n",
              "       [0.50481764],\n",
              "       [0.49231482],\n",
              "       [0.49139715],\n",
              "       [0.46685025],\n",
              "       [0.46822665],\n",
              "       [0.45549437],\n",
              "       [0.44998857],\n",
              "       [0.4545767 ],\n",
              "       [0.4535444 ],\n",
              "       [0.45595329],\n",
              "       [0.44081211],\n",
              "       [0.44815324],\n",
              "       [0.4538885 ],\n",
              "       [0.47258551],\n",
              "       [0.46249139],\n",
              "       [0.4473504 ],\n",
              "       [0.45515027],\n",
              "       [0.43748574],\n",
              "       [0.42842393],\n",
              "       [0.42693288],\n",
              "       [0.42601522],\n",
              "       [0.44104157],\n",
              "       [0.4490709 ],\n",
              "       [0.44895626],\n",
              "       [0.44723558],\n",
              "       [0.46512974],\n",
              "       [0.45239745],\n",
              "       [0.45147979],\n",
              "       [0.45251209],\n",
              "       [0.45469152],\n",
              "       [0.45641203],\n",
              "       [0.46822665],\n",
              "       [0.46776791],\n",
              "       [0.46122963],\n",
              "       [0.46042678],\n",
              "       [0.46455618],\n",
              "       [0.43633862],\n",
              "       [0.45044731],\n",
              "       [0.46627668],\n",
              "       [0.4538885 ],\n",
              "       [0.45113569],\n",
              "       [0.45216799],\n",
              "       [0.46501492],\n",
              "       [0.48141786],\n",
              "       [0.4808443 ],\n",
              "       [0.47981199],\n",
              "       [0.470865  ],\n",
              "       [0.48004127],\n",
              "       [0.49564119],\n",
              "       [0.49942648],\n",
              "       [0.50929114],\n",
              "       [0.56343201],\n",
              "       [0.55173203],\n",
              "       [0.52523515],\n",
              "       [0.50298232],\n",
              "       [0.51364999],\n",
              "       [0.49231482],\n",
              "       [0.48176196],\n",
              "       [0.56159668],\n",
              "       [0.5907319 ],\n",
              "       [0.62330814],\n",
              "       [0.70612532],\n",
              "       [0.71105756],\n",
              "       [0.67263142],\n",
              "       [0.68433122],\n",
              "       [0.67343426],\n",
              "       [0.69442533],\n",
              "       [0.68295481],\n",
              "       [0.64154623],\n",
              "       [0.64613454],\n",
              "       [0.64338155],\n",
              "       [0.64751095],\n",
              "       [0.63168157],\n",
              "       [0.59256705],\n",
              "       [0.53842636],\n",
              "       [0.51594406],\n",
              "       [0.43977981],\n",
              "       [0.40582699],\n",
              "       [0.45342976],\n",
              "       [0.39148884],\n",
              "       [0.45251209],\n",
              "       [0.39894478],\n",
              "       [0.37806844],\n",
              "       [0.26428081],\n",
              "       [0.34411562],\n",
              "       [0.26611613],\n",
              "       [0.092223  ],\n",
              "       [0.15118147],\n",
              "       [0.049438  ],\n",
              "       [0.13626984],\n",
              "       [0.10071125],\n",
              "       [0.0638908 ],\n",
              "       [0.00711175],\n",
              "       [0.        ],\n",
              "       [0.12284935],\n",
              "       [0.12709339],\n",
              "       [0.20784587],\n",
              "       [0.15209913],\n",
              "       [0.2083047 ],\n",
              "       [0.18536366],\n",
              "       [0.11894933],\n",
              "       [0.17469607],\n",
              "       [0.13271392],\n",
              "       [0.22998398],\n",
              "       [0.23136047],\n",
              "       [0.28125722],\n",
              "       [0.30660706],\n",
              "       [0.30259239],\n",
              "       [0.33425105],\n",
              "       [0.27437492],\n",
              "       [0.24042219],\n",
              "       [0.29077777],\n",
              "       [0.29410423],\n",
              "       [0.25223681],\n",
              "       [0.28148659],\n",
              "       [0.30488646],\n",
              "       [0.34354215],\n",
              "       [0.35730674],\n",
              "       [0.3613214 ],\n",
              "       [0.38908013],\n",
              "       [0.35317734],\n",
              "       [0.31085118],\n",
              "       [0.30867175],\n",
              "       [0.31899524],\n",
              "       [0.32576281],\n",
              "       [0.30351006],\n",
              "       [0.32369811],\n",
              "       [0.31910988],\n",
              "       [0.29238364],\n",
              "       [0.24042219],\n",
              "       [0.25441615],\n",
              "       [0.25476034],\n",
              "       [0.30729526],\n",
              "       [0.29272774],\n",
              "       [0.30523056],\n",
              "       [0.27930725],\n",
              "       [0.27093373],\n",
              "       [0.30958942],\n",
              "       [0.35294797],\n",
              "       [0.34136272],\n",
              "       [0.34560685],\n",
              "       [0.34549212],\n",
              "       [0.3582244 ],\n",
              "       [0.39320952],\n",
              "       [0.3913742 ],\n",
              "       [0.42773573],\n",
              "       [0.47006198],\n",
              "       [0.4255563 ],\n",
              "       [0.40261526],\n",
              "       [0.26657496],\n",
              "       [0.31131001],\n",
              "       [0.30832765],\n",
              "       [0.34847448],\n",
              "       [0.33700395],\n",
              "       [0.33711868],\n",
              "       [0.31773348],\n",
              "       [0.30167473],\n",
              "       [0.28263371],\n",
              "       [0.24833679],\n",
              "       [0.27827486],\n",
              "       [0.25716914],\n",
              "       [0.28653365],\n",
              "       [0.29823354],\n",
              "       [0.27265433],\n",
              "       [0.28596009],\n",
              "       [0.2915807 ],\n",
              "       [0.26164264],\n",
              "       [0.26313377],\n",
              "       [0.24019273],\n",
              "       [0.2704749 ],\n",
              "       [0.28022482],\n",
              "       [0.29628357],\n",
              "       [0.32381284],\n",
              "       [0.33539809],\n",
              "       [0.34801564],\n",
              "       [0.36246852],\n",
              "       [0.3589126 ],\n",
              "       [0.38885067],\n",
              "       [0.37348021],\n",
              "       [0.3558156 ],\n",
              "       [0.3606332 ],\n",
              "       [0.34067452],\n",
              "       [0.35042444],\n",
              "       [0.3226658 ],\n",
              "       [0.32312464],\n",
              "       [0.33883919],\n",
              "       [0.35638908],\n",
              "       [0.35191558],\n",
              "       [0.35960089],\n",
              "       [0.34629505],\n",
              "       [0.37095669],\n",
              "       [0.36682729],\n",
              "       [0.36625373],\n",
              "       [0.34709798],\n",
              "       [0.34985088],\n",
              "       [0.34033042],\n",
              "       [0.34583622],\n",
              "       [0.33344803],\n",
              "       [0.32553343],\n",
              "       [0.32564816],\n",
              "       [0.35455384],\n",
              "       [0.34262449],\n",
              "       [0.33723333],\n",
              "       [0.34273922],\n",
              "       [0.34755681],\n",
              "       [0.32736867],\n",
              "       [0.32840106],\n",
              "       [0.38323005],\n",
              "       [0.34044506],\n",
              "       [0.31578351],\n",
              "       [0.3032806 ],\n",
              "       [0.31532468],\n",
              "       [0.29582474],\n",
              "       [0.30614823],\n",
              "       [0.31337462],\n",
              "       [0.31738937],\n",
              "       [0.33780689],\n",
              "       [0.34583622],\n",
              "       [0.32105994],\n",
              "       [0.29226891],\n",
              "       [0.29525127],\n",
              "       [0.27598079],\n",
              "       [0.26749254],\n",
              "       [0.27735719],\n",
              "       [0.30924532],\n",
              "       [0.30018359],\n",
              "       [0.30855702],\n",
              "       [0.3019041 ],\n",
              "       [0.29593947],\n",
              "       [0.31245705],\n",
              "       [0.31199822],\n",
              "       [0.33608629],\n",
              "       [0.42119762],\n",
              "       [0.37875664],\n",
              "       [0.37210372],\n",
              "       [0.34790091],\n",
              "       [0.3575362 ],\n",
              "       [0.34549212],\n",
              "       [0.35742147],\n",
              "       [0.35271851],\n",
              "       [0.25923384],\n",
              "       [0.23273688],\n",
              "       [0.24076629],\n",
              "       [0.24351919],\n",
              "       [0.20016064],\n",
              "       [0.18111953],\n",
              "       [0.13626984],\n",
              "       [0.16219324],\n",
              "       [0.19373718],\n",
              "       [0.20807533],\n",
              "       [0.22241348],\n",
              "       [0.19649008],\n",
              "       [0.22941041],\n",
              "       [0.22103698],\n",
              "       [0.23812803],\n",
              "       [0.26542793],\n",
              "       [0.25728378],\n",
              "       [0.22631341],\n",
              "       [0.25326912],\n",
              "       [0.27058963],\n",
              "       [0.26301904],\n",
              "       [0.25235146],\n",
              "       [0.25705441],\n",
              "       [0.25430151],\n",
              "       [0.29043358],\n",
              "       [0.34010096],\n",
              "       [0.33757743],\n",
              "       [0.33929802],\n",
              "       [0.32977747],\n",
              "       [0.32564816],\n",
              "       [0.34239511],\n",
              "       [0.33080986],\n",
              "       [0.37198899]])"
            ]
          },
          "metadata": {
            "tags": []
          },
          "execution_count": 25
        }
      ]
    },
    {
      "cell_type": "code",
      "metadata": {
        "colab": {
          "base_uri": "https://localhost:8080/"
        },
        "id": "9DR7a2qAgIOl",
        "outputId": "d812cfff-6cd3-4b0f-d699-82b4ebd17446"
      },
      "source": [
        "train_size=int(len(data1)*0.65)\r\n",
        "test_size=len(data1)-train_size\r\n",
        "print(train_size,test_size)"
      ],
      "execution_count": null,
      "outputs": [
        {
          "output_type": "stream",
          "text": [
            "642 347\n"
          ],
          "name": "stdout"
        }
      ]
    },
    {
      "cell_type": "code",
      "metadata": {
        "id": "PeCUjbd-hd6P"
      },
      "source": [
        "s=len(data1)"
      ],
      "execution_count": null,
      "outputs": []
    },
    {
      "cell_type": "code",
      "metadata": {
        "id": "aTiOOVtCheVJ"
      },
      "source": [
        "train_data,test_data=data1[0:train_size,:],data1[train_size:len(data1),:1]"
      ],
      "execution_count": null,
      "outputs": []
    },
    {
      "cell_type": "code",
      "metadata": {
        "id": "4UAKr4Ynhz4H"
      },
      "source": [
        "\r\n",
        "def create_dataset(dataset, time_step=1):\r\n",
        "    datax,datay=[],[]\r\n",
        "    for i in range(len(dataset)-time_step-1):\r\n",
        "        a=dataset[i:(i+time_step),0]\r\n",
        "        datax.append(a)\r\n",
        "        datay.append(dataset[i+time_step,0])\r\n",
        "    return np.array(datax),np.array(datay)\r\n"
      ],
      "execution_count": null,
      "outputs": []
    },
    {
      "cell_type": "code",
      "metadata": {
        "id": "IOYHgqsOiAr2"
      },
      "source": [
        "time_step=100\r\n",
        "x_train,y_train=create_dataset(train_data,time_step)\r\n",
        "x_test,y_test=create_dataset(test_data,time_step)"
      ],
      "execution_count": null,
      "outputs": []
    },
    {
      "cell_type": "code",
      "metadata": {
        "colab": {
          "base_uri": "https://localhost:8080/"
        },
        "id": "T7Y0lvD1iHYT",
        "outputId": "2288f2b9-53a0-4738-c657-381dcc646129"
      },
      "source": [
        "print(x_train)"
      ],
      "execution_count": null,
      "outputs": [
        {
          "output_type": "stream",
          "text": [
            "[[0.83069518 0.85443906 0.8480156  ... 0.65680204 0.66230784 0.67022253]\n",
            " [0.85443906 0.8480156  0.85753615 ... 0.66230784 0.67022253 0.66207856]\n",
            " [0.8480156  0.85753615 0.83597152 ... 0.67022253 0.66207856 0.65336085]\n",
            " ...\n",
            " [0.51261769 0.51559996 0.50929114 ... 0.5568939  0.55930261 0.55402627]\n",
            " [0.51559996 0.50929114 0.49736187 ... 0.55930261 0.55402627 0.62927286]\n",
            " [0.50929114 0.49736187 0.50963524 ... 0.55402627 0.62927286 0.62984625]]\n"
          ],
          "name": "stdout"
        }
      ]
    },
    {
      "cell_type": "code",
      "metadata": {
        "id": "5Y35_JzCiVpC"
      },
      "source": [
        "\r\n",
        "x_train=x_train.reshape(x_train.shape[0],x_train.shape[1],1)\r\n",
        "x_test=x_test.reshape(x_test.shape[0],x_test.shape[1],1)"
      ],
      "execution_count": null,
      "outputs": []
    },
    {
      "cell_type": "code",
      "metadata": {
        "id": "XsCpHGUsifFI"
      },
      "source": [
        "from tensorflow.keras.models import Sequential\r\n",
        "from tensorflow.keras.layers import Dense\r\n",
        "from tensorflow.keras.layers import LSTM"
      ],
      "execution_count": null,
      "outputs": []
    },
    {
      "cell_type": "code",
      "metadata": {
        "id": "EaCwyvaUitUE"
      },
      "source": [
        "model=Sequential()\r\n",
        "model.add(LSTM(50,return_sequences=True,input_shape=(100,1)))\r\n",
        "model.add(LSTM(50,return_sequences=True))\r\n",
        "model.add(LSTM(50))\r\n",
        "model.add(Dense(1))\r\n",
        "model.compile(loss='mean_squared_error',optimizer='adam')\r\n"
      ],
      "execution_count": null,
      "outputs": []
    },
    {
      "cell_type": "code",
      "metadata": {
        "colab": {
          "base_uri": "https://localhost:8080/"
        },
        "id": "F7ad6rrci5Gd",
        "outputId": "e26a40a8-bce4-4a00-f39d-7b788271271d"
      },
      "source": [
        "\r\n",
        "model.summary()"
      ],
      "execution_count": null,
      "outputs": [
        {
          "output_type": "stream",
          "text": [
            "Model: \"sequential\"\n",
            "_________________________________________________________________\n",
            "Layer (type)                 Output Shape              Param #   \n",
            "=================================================================\n",
            "lstm (LSTM)                  (None, 100, 50)           10400     \n",
            "_________________________________________________________________\n",
            "lstm_1 (LSTM)                (None, 100, 50)           20200     \n",
            "_________________________________________________________________\n",
            "lstm_2 (LSTM)                (None, 50)                20200     \n",
            "_________________________________________________________________\n",
            "dense (Dense)                (None, 1)                 51        \n",
            "=================================================================\n",
            "Total params: 50,851\n",
            "Trainable params: 50,851\n",
            "Non-trainable params: 0\n",
            "_________________________________________________________________\n"
          ],
          "name": "stdout"
        }
      ]
    },
    {
      "cell_type": "code",
      "metadata": {
        "colab": {
          "base_uri": "https://localhost:8080/"
        },
        "id": "Fovpci5ijGkz",
        "outputId": "d0165ad2-6d32-421a-ab3f-10f00ad1bdae"
      },
      "source": [
        "model.fit(x_train,y_train,validation_data=(x_test,y_test),epochs=100,batch_size=64,verbose=1)"
      ],
      "execution_count": null,
      "outputs": [
        {
          "output_type": "stream",
          "text": [
            "Epoch 1/100\n",
            "9/9 [==============================] - 7s 319ms/step - loss: 0.1836 - val_loss: 0.0221\n",
            "Epoch 2/100\n",
            "9/9 [==============================] - 1s 160ms/step - loss: 0.0132 - val_loss: 0.0125\n",
            "Epoch 3/100\n",
            "9/9 [==============================] - 1s 163ms/step - loss: 0.0090 - val_loss: 0.0256\n",
            "Epoch 4/100\n",
            "9/9 [==============================] - 2s 168ms/step - loss: 0.0070 - val_loss: 0.0143\n",
            "Epoch 5/100\n",
            "9/9 [==============================] - 1s 167ms/step - loss: 0.0065 - val_loss: 0.0216\n",
            "Epoch 6/100\n",
            "9/9 [==============================] - 1s 167ms/step - loss: 0.0059 - val_loss: 0.0153\n",
            "Epoch 7/100\n",
            "9/9 [==============================] - 2s 169ms/step - loss: 0.0060 - val_loss: 0.0166\n",
            "Epoch 8/100\n",
            "9/9 [==============================] - 1s 167ms/step - loss: 0.0049 - val_loss: 0.0154\n",
            "Epoch 9/100\n",
            "9/9 [==============================] - 2s 172ms/step - loss: 0.0049 - val_loss: 0.0135\n",
            "Epoch 10/100\n",
            "9/9 [==============================] - 1s 166ms/step - loss: 0.0048 - val_loss: 0.0137\n",
            "Epoch 11/100\n",
            "9/9 [==============================] - 2s 170ms/step - loss: 0.0044 - val_loss: 0.0119\n",
            "Epoch 12/100\n",
            "9/9 [==============================] - 1s 165ms/step - loss: 0.0041 - val_loss: 0.0122\n",
            "Epoch 13/100\n",
            "9/9 [==============================] - 2s 172ms/step - loss: 0.0040 - val_loss: 0.0113\n",
            "Epoch 14/100\n",
            "9/9 [==============================] - 1s 161ms/step - loss: 0.0043 - val_loss: 0.0107\n",
            "Epoch 15/100\n",
            "9/9 [==============================] - 2s 167ms/step - loss: 0.0044 - val_loss: 0.0109\n",
            "Epoch 16/100\n",
            "9/9 [==============================] - 1s 164ms/step - loss: 0.0040 - val_loss: 0.0107\n",
            "Epoch 17/100\n",
            "9/9 [==============================] - 1s 164ms/step - loss: 0.0036 - val_loss: 0.0105\n",
            "Epoch 18/100\n",
            "9/9 [==============================] - 1s 158ms/step - loss: 0.0037 - val_loss: 0.0102\n",
            "Epoch 19/100\n",
            "9/9 [==============================] - 1s 168ms/step - loss: 0.0034 - val_loss: 0.0092\n",
            "Epoch 20/100\n",
            "9/9 [==============================] - 2s 171ms/step - loss: 0.0033 - val_loss: 0.0092\n",
            "Epoch 21/100\n",
            "9/9 [==============================] - 1s 162ms/step - loss: 0.0035 - val_loss: 0.0091\n",
            "Epoch 22/100\n",
            "9/9 [==============================] - 2s 170ms/step - loss: 0.0038 - val_loss: 0.0079\n",
            "Epoch 23/100\n",
            "9/9 [==============================] - 2s 169ms/step - loss: 0.0035 - val_loss: 0.0077\n",
            "Epoch 24/100\n",
            "9/9 [==============================] - 2s 174ms/step - loss: 0.0027 - val_loss: 0.0076\n",
            "Epoch 25/100\n",
            "9/9 [==============================] - 2s 170ms/step - loss: 0.0027 - val_loss: 0.0079\n",
            "Epoch 26/100\n",
            "9/9 [==============================] - 2s 173ms/step - loss: 0.0029 - val_loss: 0.0073\n",
            "Epoch 27/100\n",
            "9/9 [==============================] - 1s 165ms/step - loss: 0.0029 - val_loss: 0.0072\n",
            "Epoch 28/100\n",
            "9/9 [==============================] - 2s 170ms/step - loss: 0.0024 - val_loss: 0.0071\n",
            "Epoch 29/100\n",
            "9/9 [==============================] - 2s 177ms/step - loss: 0.0025 - val_loss: 0.0068\n",
            "Epoch 30/100\n",
            "9/9 [==============================] - 2s 171ms/step - loss: 0.0025 - val_loss: 0.0063\n",
            "Epoch 31/100\n",
            "9/9 [==============================] - 1s 155ms/step - loss: 0.0024 - val_loss: 0.0062\n",
            "Epoch 32/100\n",
            "9/9 [==============================] - 2s 171ms/step - loss: 0.0023 - val_loss: 0.0053\n",
            "Epoch 33/100\n",
            "9/9 [==============================] - 2s 176ms/step - loss: 0.0025 - val_loss: 0.0063\n",
            "Epoch 34/100\n",
            "9/9 [==============================] - 2s 176ms/step - loss: 0.0023 - val_loss: 0.0054\n",
            "Epoch 35/100\n",
            "9/9 [==============================] - 2s 168ms/step - loss: 0.0024 - val_loss: 0.0061\n",
            "Epoch 36/100\n",
            "9/9 [==============================] - 2s 177ms/step - loss: 0.0023 - val_loss: 0.0052\n",
            "Epoch 37/100\n",
            "9/9 [==============================] - 1s 159ms/step - loss: 0.0020 - val_loss: 0.0050\n",
            "Epoch 38/100\n",
            "9/9 [==============================] - 2s 172ms/step - loss: 0.0023 - val_loss: 0.0052\n",
            "Epoch 39/100\n",
            "9/9 [==============================] - 2s 172ms/step - loss: 0.0018 - val_loss: 0.0056\n",
            "Epoch 40/100\n",
            "9/9 [==============================] - 2s 179ms/step - loss: 0.0020 - val_loss: 0.0046\n",
            "Epoch 41/100\n",
            "9/9 [==============================] - 2s 175ms/step - loss: 0.0029 - val_loss: 0.0047\n",
            "Epoch 42/100\n",
            "9/9 [==============================] - 2s 174ms/step - loss: 0.0024 - val_loss: 0.0065\n",
            "Epoch 43/100\n",
            "9/9 [==============================] - 2s 171ms/step - loss: 0.0027 - val_loss: 0.0054\n",
            "Epoch 44/100\n",
            "9/9 [==============================] - 2s 193ms/step - loss: 0.0020 - val_loss: 0.0054\n",
            "Epoch 45/100\n",
            "9/9 [==============================] - 2s 174ms/step - loss: 0.0021 - val_loss: 0.0049\n",
            "Epoch 46/100\n",
            "9/9 [==============================] - 2s 174ms/step - loss: 0.0020 - val_loss: 0.0043\n",
            "Epoch 47/100\n",
            "9/9 [==============================] - 2s 173ms/step - loss: 0.0022 - val_loss: 0.0045\n",
            "Epoch 48/100\n",
            "9/9 [==============================] - 2s 174ms/step - loss: 0.0023 - val_loss: 0.0056\n",
            "Epoch 49/100\n",
            "9/9 [==============================] - 2s 175ms/step - loss: 0.0022 - val_loss: 0.0051\n",
            "Epoch 50/100\n",
            "9/9 [==============================] - 2s 173ms/step - loss: 0.0017 - val_loss: 0.0046\n",
            "Epoch 51/100\n",
            "9/9 [==============================] - 2s 179ms/step - loss: 0.0019 - val_loss: 0.0044\n",
            "Epoch 52/100\n",
            "9/9 [==============================] - 2s 180ms/step - loss: 0.0016 - val_loss: 0.0047\n",
            "Epoch 53/100\n",
            "9/9 [==============================] - 2s 174ms/step - loss: 0.0019 - val_loss: 0.0047\n",
            "Epoch 54/100\n",
            "9/9 [==============================] - 2s 183ms/step - loss: 0.0018 - val_loss: 0.0044\n",
            "Epoch 55/100\n",
            "9/9 [==============================] - 2s 180ms/step - loss: 0.0017 - val_loss: 0.0042\n",
            "Epoch 56/100\n",
            "9/9 [==============================] - 2s 180ms/step - loss: 0.0016 - val_loss: 0.0040\n",
            "Epoch 57/100\n",
            "9/9 [==============================] - 2s 178ms/step - loss: 0.0018 - val_loss: 0.0045\n",
            "Epoch 58/100\n",
            "9/9 [==============================] - 2s 175ms/step - loss: 0.0017 - val_loss: 0.0042\n",
            "Epoch 59/100\n",
            "9/9 [==============================] - 2s 175ms/step - loss: 0.0016 - val_loss: 0.0043\n",
            "Epoch 60/100\n",
            "9/9 [==============================] - 2s 173ms/step - loss: 0.0014 - val_loss: 0.0043\n",
            "Epoch 61/100\n",
            "9/9 [==============================] - 2s 173ms/step - loss: 0.0016 - val_loss: 0.0042\n",
            "Epoch 62/100\n",
            "9/9 [==============================] - 2s 193ms/step - loss: 0.0016 - val_loss: 0.0039\n",
            "Epoch 63/100\n",
            "9/9 [==============================] - 2s 186ms/step - loss: 0.0014 - val_loss: 0.0042\n",
            "Epoch 64/100\n",
            "9/9 [==============================] - 2s 185ms/step - loss: 0.0015 - val_loss: 0.0044\n",
            "Epoch 65/100\n",
            "9/9 [==============================] - 2s 174ms/step - loss: 0.0015 - val_loss: 0.0040\n",
            "Epoch 66/100\n",
            "9/9 [==============================] - 2s 176ms/step - loss: 0.0015 - val_loss: 0.0039\n",
            "Epoch 67/100\n",
            "9/9 [==============================] - 2s 169ms/step - loss: 0.0016 - val_loss: 0.0041\n",
            "Epoch 68/100\n",
            "9/9 [==============================] - 2s 173ms/step - loss: 0.0019 - val_loss: 0.0038\n",
            "Epoch 69/100\n",
            "9/9 [==============================] - 2s 170ms/step - loss: 0.0017 - val_loss: 0.0036\n",
            "Epoch 70/100\n",
            "9/9 [==============================] - 2s 170ms/step - loss: 0.0016 - val_loss: 0.0041\n",
            "Epoch 71/100\n",
            "9/9 [==============================] - 2s 171ms/step - loss: 0.0015 - val_loss: 0.0038\n",
            "Epoch 72/100\n",
            "9/9 [==============================] - 2s 172ms/step - loss: 0.0015 - val_loss: 0.0038\n",
            "Epoch 73/100\n",
            "9/9 [==============================] - 1s 168ms/step - loss: 0.0015 - val_loss: 0.0038\n",
            "Epoch 74/100\n",
            "9/9 [==============================] - 2s 170ms/step - loss: 0.0014 - val_loss: 0.0038\n",
            "Epoch 75/100\n",
            "9/9 [==============================] - 1s 165ms/step - loss: 0.0014 - val_loss: 0.0041\n",
            "Epoch 76/100\n",
            "9/9 [==============================] - 2s 171ms/step - loss: 0.0016 - val_loss: 0.0037\n",
            "Epoch 77/100\n",
            "9/9 [==============================] - 2s 174ms/step - loss: 0.0014 - val_loss: 0.0037\n",
            "Epoch 78/100\n",
            "9/9 [==============================] - 1s 169ms/step - loss: 0.0014 - val_loss: 0.0037\n",
            "Epoch 79/100\n",
            "9/9 [==============================] - 2s 172ms/step - loss: 0.0016 - val_loss: 0.0035\n",
            "Epoch 80/100\n",
            "9/9 [==============================] - 2s 169ms/step - loss: 0.0014 - val_loss: 0.0035\n",
            "Epoch 81/100\n",
            "9/9 [==============================] - 1s 168ms/step - loss: 0.0014 - val_loss: 0.0035\n",
            "Epoch 82/100\n",
            "9/9 [==============================] - 2s 169ms/step - loss: 0.0015 - val_loss: 0.0037\n",
            "Epoch 83/100\n",
            "9/9 [==============================] - 1s 157ms/step - loss: 0.0013 - val_loss: 0.0035\n",
            "Epoch 84/100\n",
            "9/9 [==============================] - 2s 171ms/step - loss: 0.0014 - val_loss: 0.0037\n",
            "Epoch 85/100\n",
            "9/9 [==============================] - 2s 171ms/step - loss: 0.0015 - val_loss: 0.0033\n",
            "Epoch 86/100\n",
            "9/9 [==============================] - 2s 172ms/step - loss: 0.0013 - val_loss: 0.0039\n",
            "Epoch 87/100\n",
            "9/9 [==============================] - 2s 173ms/step - loss: 0.0016 - val_loss: 0.0037\n",
            "Epoch 88/100\n",
            "9/9 [==============================] - 2s 170ms/step - loss: 0.0016 - val_loss: 0.0033\n",
            "Epoch 89/100\n",
            "9/9 [==============================] - 2s 172ms/step - loss: 0.0015 - val_loss: 0.0033\n",
            "Epoch 90/100\n",
            "9/9 [==============================] - 1s 166ms/step - loss: 0.0013 - val_loss: 0.0044\n",
            "Epoch 91/100\n",
            "9/9 [==============================] - 2s 168ms/step - loss: 0.0018 - val_loss: 0.0032\n",
            "Epoch 92/100\n",
            "9/9 [==============================] - 1s 168ms/step - loss: 0.0015 - val_loss: 0.0033\n",
            "Epoch 93/100\n",
            "9/9 [==============================] - 1s 169ms/step - loss: 0.0012 - val_loss: 0.0035\n",
            "Epoch 94/100\n",
            "9/9 [==============================] - 2s 170ms/step - loss: 0.0013 - val_loss: 0.0031\n",
            "Epoch 95/100\n",
            "9/9 [==============================] - 2s 172ms/step - loss: 0.0013 - val_loss: 0.0030\n",
            "Epoch 96/100\n",
            "9/9 [==============================] - 2s 171ms/step - loss: 0.0015 - val_loss: 0.0031\n",
            "Epoch 97/100\n",
            "9/9 [==============================] - 2s 170ms/step - loss: 0.0013 - val_loss: 0.0033\n",
            "Epoch 98/100\n",
            "9/9 [==============================] - 2s 170ms/step - loss: 0.0012 - val_loss: 0.0032\n",
            "Epoch 99/100\n",
            "9/9 [==============================] - 1s 169ms/step - loss: 0.0011 - val_loss: 0.0031\n",
            "Epoch 100/100\n",
            "9/9 [==============================] - 2s 168ms/step - loss: 0.0011 - val_loss: 0.0029\n"
          ],
          "name": "stdout"
        },
        {
          "output_type": "execute_result",
          "data": {
            "text/plain": [
              "<tensorflow.python.keras.callbacks.History at 0x7fe8f17a7dd8>"
            ]
          },
          "metadata": {
            "tags": []
          },
          "execution_count": 36
        }
      ]
    },
    {
      "cell_type": "code",
      "metadata": {
        "id": "bSmdxChQjOhs"
      },
      "source": [
        "train_predict=model.predict(x_train)\r\n",
        "test_predict=model.predict(x_test)\r\n"
      ],
      "execution_count": null,
      "outputs": []
    },
    {
      "cell_type": "code",
      "metadata": {
        "id": "lJvcpdN1jf3-"
      },
      "source": [
        "train_predict=scaler.inverse_transform(train_predict)\r\n",
        "test_predict=scaler.inverse_transform(test_predict)"
      ],
      "execution_count": null,
      "outputs": []
    },
    {
      "cell_type": "code",
      "metadata": {
        "colab": {
          "base_uri": "https://localhost:8080/"
        },
        "id": "GaNIFhqQrb64",
        "outputId": "458e2e08-ad13-4e49-fed1-0df29df23b93"
      },
      "source": [
        "import math\r\n",
        "from sklearn.metrics import mean_squared_error\r\n",
        "math.sqrt(mean_squared_error(y_train,train_predict))"
      ],
      "execution_count": null,
      "outputs": [
        {
          "output_type": "execute_result",
          "data": {
            "text/plain": [
              "142.65212476831465"
            ]
          },
          "metadata": {
            "tags": []
          },
          "execution_count": 39
        }
      ]
    },
    {
      "cell_type": "code",
      "metadata": {
        "colab": {
          "base_uri": "https://localhost:8080/"
        },
        "id": "oYexfSQcrcr6",
        "outputId": "893f3bc0-f271-4085-c453-a3beafd7f153"
      },
      "source": [
        "math.sqrt(mean_squared_error(y_test,test_predict))\r\n"
      ],
      "execution_count": null,
      "outputs": [
        {
          "output_type": "execute_result",
          "data": {
            "text/plain": [
              "125.47158257273517"
            ]
          },
          "metadata": {
            "tags": []
          },
          "execution_count": 40
        }
      ]
    },
    {
      "cell_type": "code",
      "metadata": {
        "id": "K4eiFQuJriH6"
      },
      "source": [
        "import matplotlib.pyplot as plt\r\n",
        "%matplotlib inline"
      ],
      "execution_count": null,
      "outputs": []
    },
    {
      "cell_type": "code",
      "metadata": {
        "id": "Is7_iM04rlRa"
      },
      "source": [
        "look_back=100\r\n",
        "trainpredictplot=np.empty_like(data1)\r\n",
        "trainpredictplot[:, :]=np.nan\r\n",
        "trainpredictplot[look_back:len(train_predict)+look_back,:]=train_predict\r\n"
      ],
      "execution_count": null,
      "outputs": []
    },
    {
      "cell_type": "code",
      "metadata": {
        "colab": {
          "base_uri": "https://localhost:8080/",
          "height": 265
        },
        "id": "mBNxjUP8ropK",
        "outputId": "1dbcbb28-f64a-4530-a1e3-7db79d8b79fa"
      },
      "source": [
        "testpredictplot=np.empty_like(data1)\r\n",
        "testpredictplot[:, :]=np.nan\r\n",
        "testpredictplot[len(train_predict)+(look_back*2)+1:len(data1)-1,:]=test_predict\r\n",
        "\r\n",
        "plt.plot(scaler.inverse_transform(data1))\r\n",
        "plt.plot(trainpredictplot)\r\n",
        "plt.plot(testpredictplot)\r\n",
        "plt.show()"
      ],
      "execution_count": null,
      "outputs": [
        {
          "output_type": "display_data",
          "data": {
            "image/png": "[encoded data removed]",
            "text/plain": [
              "<Figure size 432x288 with 1 Axes>"
            ]
          },
          "metadata": {
            "tags": [],
            "needs_background": "light"
          }
        }
      ]
    },
    {
      "cell_type": "code",
      "metadata": {
        "colab": {
          "base_uri": "https://localhost:8080/"
        },
        "id": "B3srWJVMsxLm",
        "outputId": "ffc53b72-3e24-4f95-a215-c21f82f4e289"
      },
      "source": [
        "len(test_data)"
      ],
      "execution_count": null,
      "outputs": [
        {
          "output_type": "execute_result",
          "data": {
            "text/plain": [
              "347"
            ]
          },
          "metadata": {
            "tags": []
          },
          "execution_count": 44
        }
      ]
    },
    {
      "cell_type": "code",
      "metadata": {
        "colab": {
          "base_uri": "https://localhost:8080/"
        },
        "id": "9lzdJeXts4ks",
        "outputId": "4ca1a308-74e3-4ca0-aeb2-c4ecf8b57af2"
      },
      "source": [
        "x_input=test_data[247:].reshape(1,-1)\r\n",
        "x_input.shape"
      ],
      "execution_count": null,
      "outputs": [
        {
          "output_type": "execute_result",
          "data": {
            "text/plain": [
              "(1, 100)"
            ]
          },
          "metadata": {
            "tags": []
          },
          "execution_count": 45
        }
      ]
    },
    {
      "cell_type": "code",
      "metadata": {
        "id": "dFKk-iIKta69"
      },
      "source": [
        "temp_input=list(x_input)\r\n",
        "temp_input=temp_input[0].tolist()"
      ],
      "execution_count": null,
      "outputs": []
    },
    {
      "cell_type": "code",
      "metadata": {
        "colab": {
          "base_uri": "https://localhost:8080/"
        },
        "id": "CTT_k7u8te69",
        "outputId": "ac83393c-0729-441b-ab42-f29a9d4e3a34"
      },
      "source": [
        "from numpy import array\r\n",
        "lst_output=[]\r\n",
        "n_steps=100\r\n",
        "i=0\r\n",
        "while(i<30):\r\n",
        "  if(len(temp_input)>100):\r\n",
        "        #print(temp_input)\r\n",
        "        x_input=np.array(temp_input[1:])\r\n",
        "        print(\"{} day input {}\".format(i,x_input))\r\n",
        "        x_input=x_input.reshape(1,-1)\r\n",
        "        x_input = x_input.reshape((1, n_steps, 1))\r\n",
        "        #print(x_input)\r\n",
        "        yhat = model.predict(x_input, verbose=0)\r\n",
        "        print(\"{} day output {}\".format(i,yhat))\r\n",
        "        temp_input.extend(yhat[0].tolist())\r\n",
        "        temp_input=temp_input[1:]\r\n",
        "        #print(temp_input)\r\n",
        "        lst_output.extend(yhat.tolist())\r\n",
        "        i=i+1\r\n",
        "  else:\r\n",
        "        x_input = x_input.reshape((1, n_steps,1))\r\n",
        "        yhat = model.predict(x_input, verbose=0)\r\n",
        "        print(yhat[0])\r\n",
        "        temp_input.extend(yhat[0].tolist())\r\n",
        "        print(len(temp_input))\r\n",
        "        lst_output.extend(yhat.tolist())\r\n",
        "        i=i+1\r\n",
        "    "
      ],
      "execution_count": null,
      "outputs": [
        {
          "output_type": "stream",
          "text": [
            "[0.3575811]\n",
            "101\n",
            "1 day input [0.34801564 0.36246852 0.3589126  0.38885067 0.37348021 0.3558156\n",
            " 0.3606332  0.34067452 0.35042444 0.3226658  0.32312464 0.33883919\n",
            " 0.35638908 0.35191558 0.35960089 0.34629505 0.37095669 0.36682729\n",
            " 0.36625373 0.34709798 0.34985088 0.34033042 0.34583622 0.33344803\n",
            " 0.32553343 0.32564816 0.35455384 0.34262449 0.33723333 0.34273922\n",
            " 0.34755681 0.32736867 0.32840106 0.38323005 0.34044506 0.31578351\n",
            " 0.3032806  0.31532468 0.29582474 0.30614823 0.31337462 0.31738937\n",
            " 0.33780689 0.34583622 0.32105994 0.29226891 0.29525127 0.27598079\n",
            " 0.26749254 0.27735719 0.30924532 0.30018359 0.30855702 0.3019041\n",
            " 0.29593947 0.31245705 0.31199822 0.33608629 0.42119762 0.37875664\n",
            " 0.37210372 0.34790091 0.3575362  0.34549212 0.35742147 0.35271851\n",
            " 0.25923384 0.23273688 0.24076629 0.24351919 0.20016064 0.18111953\n",
            " 0.13626984 0.16219324 0.19373718 0.20807533 0.22241348 0.19649008\n",
            " 0.22941041 0.22103698 0.23812803 0.26542793 0.25728378 0.22631341\n",
            " 0.25326912 0.27058963 0.26301904 0.25235146 0.25705441 0.25430151\n",
            " 0.29043358 0.34010096 0.33757743 0.33929802 0.32977747 0.32564816\n",
            " 0.34239511 0.33080986 0.37198899 0.35758111]\n",
            "1 day output [[0.3628749]]\n",
            "2 day input [0.36246852 0.3589126  0.38885067 0.37348021 0.3558156  0.3606332\n",
            " 0.34067452 0.35042444 0.3226658  0.32312464 0.33883919 0.35638908\n",
            " 0.35191558 0.35960089 0.34629505 0.37095669 0.36682729 0.36625373\n",
            " 0.34709798 0.34985088 0.34033042 0.34583622 0.33344803 0.32553343\n",
            " 0.32564816 0.35455384 0.34262449 0.33723333 0.34273922 0.34755681\n",
            " 0.32736867 0.32840106 0.38323005 0.34044506 0.31578351 0.3032806\n",
            " 0.31532468 0.29582474 0.30614823 0.31337462 0.31738937 0.33780689\n",
            " 0.34583622 0.32105994 0.29226891 0.29525127 0.27598079 0.26749254\n",
            " 0.27735719 0.30924532 0.30018359 0.30855702 0.3019041  0.29593947\n",
            " 0.31245705 0.31199822 0.33608629 0.42119762 0.37875664 0.37210372\n",
            " 0.34790091 0.3575362  0.34549212 0.35742147 0.35271851 0.25923384\n",
            " 0.23273688 0.24076629 0.24351919 0.20016064 0.18111953 0.13626984\n",
            " 0.16219324 0.19373718 0.20807533 0.22241348 0.19649008 0.22941041\n",
            " 0.22103698 0.23812803 0.26542793 0.25728378 0.22631341 0.25326912\n",
            " 0.27058963 0.26301904 0.25235146 0.25705441 0.25430151 0.29043358\n",
            " 0.34010096 0.33757743 0.33929802 0.32977747 0.32564816 0.34239511\n",
            " 0.33080986 0.37198899 0.35758111 0.3628749 ]\n",
            "2 day output [[0.36749646]]\n",
            "3 day input [0.3589126  0.38885067 0.37348021 0.3558156  0.3606332  0.34067452\n",
            " 0.35042444 0.3226658  0.32312464 0.33883919 0.35638908 0.35191558\n",
            " 0.35960089 0.34629505 0.37095669 0.36682729 0.36625373 0.34709798\n",
            " 0.34985088 0.34033042 0.34583622 0.33344803 0.32553343 0.32564816\n",
            " 0.35455384 0.34262449 0.33723333 0.34273922 0.34755681 0.32736867\n",
            " 0.32840106 0.38323005 0.34044506 0.31578351 0.3032806  0.31532468\n",
            " 0.29582474 0.30614823 0.31337462 0.31738937 0.33780689 0.34583622\n",
            " 0.32105994 0.29226891 0.29525127 0.27598079 0.26749254 0.27735719\n",
            " 0.30924532 0.30018359 0.30855702 0.3019041  0.29593947 0.31245705\n",
            " 0.31199822 0.33608629 0.42119762 0.37875664 0.37210372 0.34790091\n",
            " 0.3575362  0.34549212 0.35742147 0.35271851 0.25923384 0.23273688\n",
            " 0.24076629 0.24351919 0.20016064 0.18111953 0.13626984 0.16219324\n",
            " 0.19373718 0.20807533 0.22241348 0.19649008 0.22941041 0.22103698\n",
            " 0.23812803 0.26542793 0.25728378 0.22631341 0.25326912 0.27058963\n",
            " 0.26301904 0.25235146 0.25705441 0.25430151 0.29043358 0.34010096\n",
            " 0.33757743 0.33929802 0.32977747 0.32564816 0.34239511 0.33080986\n",
            " 0.37198899 0.35758111 0.3628749  0.36749646]\n",
            "3 day output [[0.37157768]]\n",
            "4 day input [0.38885067 0.37348021 0.3558156  0.3606332  0.34067452 0.35042444\n",
            " 0.3226658  0.32312464 0.33883919 0.35638908 0.35191558 0.35960089\n",
            " 0.34629505 0.37095669 0.36682729 0.36625373 0.34709798 0.34985088\n",
            " 0.34033042 0.34583622 0.33344803 0.32553343 0.32564816 0.35455384\n",
            " 0.34262449 0.33723333 0.34273922 0.34755681 0.32736867 0.32840106\n",
            " 0.38323005 0.34044506 0.31578351 0.3032806  0.31532468 0.29582474\n",
            " 0.30614823 0.31337462 0.31738937 0.33780689 0.34583622 0.32105994\n",
            " 0.29226891 0.29525127 0.27598079 0.26749254 0.27735719 0.30924532\n",
            " 0.30018359 0.30855702 0.3019041  0.29593947 0.31245705 0.31199822\n",
            " 0.33608629 0.42119762 0.37875664 0.37210372 0.34790091 0.3575362\n",
            " 0.34549212 0.35742147 0.35271851 0.25923384 0.23273688 0.24076629\n",
            " 0.24351919 0.20016064 0.18111953 0.13626984 0.16219324 0.19373718\n",
            " 0.20807533 0.22241348 0.19649008 0.22941041 0.22103698 0.23812803\n",
            " 0.26542793 0.25728378 0.22631341 0.25326912 0.27058963 0.26301904\n",
            " 0.25235146 0.25705441 0.25430151 0.29043358 0.34010096 0.33757743\n",
            " 0.33929802 0.32977747 0.32564816 0.34239511 0.33080986 0.37198899\n",
            " 0.35758111 0.3628749  0.36749646 0.37157768]\n",
            "4 day output [[0.37524587]]\n",
            "5 day input [0.37348021 0.3558156  0.3606332  0.34067452 0.35042444 0.3226658\n",
            " 0.32312464 0.33883919 0.35638908 0.35191558 0.35960089 0.34629505\n",
            " 0.37095669 0.36682729 0.36625373 0.34709798 0.34985088 0.34033042\n",
            " 0.34583622 0.33344803 0.32553343 0.32564816 0.35455384 0.34262449\n",
            " 0.33723333 0.34273922 0.34755681 0.32736867 0.32840106 0.38323005\n",
            " 0.34044506 0.31578351 0.3032806  0.31532468 0.29582474 0.30614823\n",
            " 0.31337462 0.31738937 0.33780689 0.34583622 0.32105994 0.29226891\n",
            " 0.29525127 0.27598079 0.26749254 0.27735719 0.30924532 0.30018359\n",
            " 0.30855702 0.3019041  0.29593947 0.31245705 0.31199822 0.33608629\n",
            " 0.42119762 0.37875664 0.37210372 0.34790091 0.3575362  0.34549212\n",
            " 0.35742147 0.35271851 0.25923384 0.23273688 0.24076629 0.24351919\n",
            " 0.20016064 0.18111953 0.13626984 0.16219324 0.19373718 0.20807533\n",
            " 0.22241348 0.19649008 0.22941041 0.22103698 0.23812803 0.26542793\n",
            " 0.25728378 0.22631341 0.25326912 0.27058963 0.26301904 0.25235146\n",
            " 0.25705441 0.25430151 0.29043358 0.34010096 0.33757743 0.33929802\n",
            " 0.32977747 0.32564816 0.34239511 0.33080986 0.37198899 0.35758111\n",
            " 0.3628749  0.36749646 0.37157768 0.37524587]\n",
            "5 day output [[0.37860098]]\n",
            "6 day input [0.3558156  0.3606332  0.34067452 0.35042444 0.3226658  0.32312464\n",
            " 0.33883919 0.35638908 0.35191558 0.35960089 0.34629505 0.37095669\n",
            " 0.36682729 0.36625373 0.34709798 0.34985088 0.34033042 0.34583622\n",
            " 0.33344803 0.32553343 0.32564816 0.35455384 0.34262449 0.33723333\n",
            " 0.34273922 0.34755681 0.32736867 0.32840106 0.38323005 0.34044506\n",
            " 0.31578351 0.3032806  0.31532468 0.29582474 0.30614823 0.31337462\n",
            " 0.31738937 0.33780689 0.34583622 0.32105994 0.29226891 0.29525127\n",
            " 0.27598079 0.26749254 0.27735719 0.30924532 0.30018359 0.30855702\n",
            " 0.3019041  0.29593947 0.31245705 0.31199822 0.33608629 0.42119762\n",
            " 0.37875664 0.37210372 0.34790091 0.3575362  0.34549212 0.35742147\n",
            " 0.35271851 0.25923384 0.23273688 0.24076629 0.24351919 0.20016064\n",
            " 0.18111953 0.13626984 0.16219324 0.19373718 0.20807533 0.22241348\n",
            " 0.19649008 0.22941041 0.22103698 0.23812803 0.26542793 0.25728378\n",
            " 0.22631341 0.25326912 0.27058963 0.26301904 0.25235146 0.25705441\n",
            " 0.25430151 0.29043358 0.34010096 0.33757743 0.33929802 0.32977747\n",
            " 0.32564816 0.34239511 0.33080986 0.37198899 0.35758111 0.3628749\n",
            " 0.36749646 0.37157768 0.37524587 0.37860098]\n",
            "6 day output [[0.38171273]]\n",
            "7 day input [0.3606332  0.34067452 0.35042444 0.3226658  0.32312464 0.33883919\n",
            " 0.35638908 0.35191558 0.35960089 0.34629505 0.37095669 0.36682729\n",
            " 0.36625373 0.34709798 0.34985088 0.34033042 0.34583622 0.33344803\n",
            " 0.32553343 0.32564816 0.35455384 0.34262449 0.33723333 0.34273922\n",
            " 0.34755681 0.32736867 0.32840106 0.38323005 0.34044506 0.31578351\n",
            " 0.3032806  0.31532468 0.29582474 0.30614823 0.31337462 0.31738937\n",
            " 0.33780689 0.34583622 0.32105994 0.29226891 0.29525127 0.27598079\n",
            " 0.26749254 0.27735719 0.30924532 0.30018359 0.30855702 0.3019041\n",
            " 0.29593947 0.31245705 0.31199822 0.33608629 0.42119762 0.37875664\n",
            " 0.37210372 0.34790091 0.3575362  0.34549212 0.35742147 0.35271851\n",
            " 0.25923384 0.23273688 0.24076629 0.24351919 0.20016064 0.18111953\n",
            " 0.13626984 0.16219324 0.19373718 0.20807533 0.22241348 0.19649008\n",
            " 0.22941041 0.22103698 0.23812803 0.26542793 0.25728378 0.22631341\n",
            " 0.25326912 0.27058963 0.26301904 0.25235146 0.25705441 0.25430151\n",
            " 0.29043358 0.34010096 0.33757743 0.33929802 0.32977747 0.32564816\n",
            " 0.34239511 0.33080986 0.37198899 0.35758111 0.3628749  0.36749646\n",
            " 0.37157768 0.37524587 0.37860098 0.38171273]\n",
            "7 day output [[0.38462576]]\n",
            "8 day input [0.34067452 0.35042444 0.3226658  0.32312464 0.33883919 0.35638908\n",
            " 0.35191558 0.35960089 0.34629505 0.37095669 0.36682729 0.36625373\n",
            " 0.34709798 0.34985088 0.34033042 0.34583622 0.33344803 0.32553343\n",
            " 0.32564816 0.35455384 0.34262449 0.33723333 0.34273922 0.34755681\n",
            " 0.32736867 0.32840106 0.38323005 0.34044506 0.31578351 0.3032806\n",
            " 0.31532468 0.29582474 0.30614823 0.31337462 0.31738937 0.33780689\n",
            " 0.34583622 0.32105994 0.29226891 0.29525127 0.27598079 0.26749254\n",
            " 0.27735719 0.30924532 0.30018359 0.30855702 0.3019041  0.29593947\n",
            " 0.31245705 0.31199822 0.33608629 0.42119762 0.37875664 0.37210372\n",
            " 0.34790091 0.3575362  0.34549212 0.35742147 0.35271851 0.25923384\n",
            " 0.23273688 0.24076629 0.24351919 0.20016064 0.18111953 0.13626984\n",
            " 0.16219324 0.19373718 0.20807533 0.22241348 0.19649008 0.22941041\n",
            " 0.22103698 0.23812803 0.26542793 0.25728378 0.22631341 0.25326912\n",
            " 0.27058963 0.26301904 0.25235146 0.25705441 0.25430151 0.29043358\n",
            " 0.34010096 0.33757743 0.33929802 0.32977747 0.32564816 0.34239511\n",
            " 0.33080986 0.37198899 0.35758111 0.3628749  0.36749646 0.37157768\n",
            " 0.37524587 0.37860098 0.38171273 0.38462576]\n",
            "8 day output [[0.38736883]]\n",
            "9 day input [0.35042444 0.3226658  0.32312464 0.33883919 0.35638908 0.35191558\n",
            " 0.35960089 0.34629505 0.37095669 0.36682729 0.36625373 0.34709798\n",
            " 0.34985088 0.34033042 0.34583622 0.33344803 0.32553343 0.32564816\n",
            " 0.35455384 0.34262449 0.33723333 0.34273922 0.34755681 0.32736867\n",
            " 0.32840106 0.38323005 0.34044506 0.31578351 0.3032806  0.31532468\n",
            " 0.29582474 0.30614823 0.31337462 0.31738937 0.33780689 0.34583622\n",
            " 0.32105994 0.29226891 0.29525127 0.27598079 0.26749254 0.27735719\n",
            " 0.30924532 0.30018359 0.30855702 0.3019041  0.29593947 0.31245705\n",
            " 0.31199822 0.33608629 0.42119762 0.37875664 0.37210372 0.34790091\n",
            " 0.3575362  0.34549212 0.35742147 0.35271851 0.25923384 0.23273688\n",
            " 0.24076629 0.24351919 0.20016064 0.18111953 0.13626984 0.16219324\n",
            " 0.19373718 0.20807533 0.22241348 0.19649008 0.22941041 0.22103698\n",
            " 0.23812803 0.26542793 0.25728378 0.22631341 0.25326912 0.27058963\n",
            " 0.26301904 0.25235146 0.25705441 0.25430151 0.29043358 0.34010096\n",
            " 0.33757743 0.33929802 0.32977747 0.32564816 0.34239511 0.33080986\n",
            " 0.37198899 0.35758111 0.3628749  0.36749646 0.37157768 0.37524587\n",
            " 0.37860098 0.38171273 0.38462576 0.38736883]\n",
            "9 day output [[0.38996062]]\n",
            "10 day input [0.3226658  0.32312464 0.33883919 0.35638908 0.35191558 0.35960089\n",
            " 0.34629505 0.37095669 0.36682729 0.36625373 0.34709798 0.34985088\n",
            " 0.34033042 0.34583622 0.33344803 0.32553343 0.32564816 0.35455384\n",
            " 0.34262449 0.33723333 0.34273922 0.34755681 0.32736867 0.32840106\n",
            " 0.38323005 0.34044506 0.31578351 0.3032806  0.31532468 0.29582474\n",
            " 0.30614823 0.31337462 0.31738937 0.33780689 0.34583622 0.32105994\n",
            " 0.29226891 0.29525127 0.27598079 0.26749254 0.27735719 0.30924532\n",
            " 0.30018359 0.30855702 0.3019041  0.29593947 0.31245705 0.31199822\n",
            " 0.33608629 0.42119762 0.37875664 0.37210372 0.34790091 0.3575362\n",
            " 0.34549212 0.35742147 0.35271851 0.25923384 0.23273688 0.24076629\n",
            " 0.24351919 0.20016064 0.18111953 0.13626984 0.16219324 0.19373718\n",
            " 0.20807533 0.22241348 0.19649008 0.22941041 0.22103698 0.23812803\n",
            " 0.26542793 0.25728378 0.22631341 0.25326912 0.27058963 0.26301904\n",
            " 0.25235146 0.25705441 0.25430151 0.29043358 0.34010096 0.33757743\n",
            " 0.33929802 0.32977747 0.32564816 0.34239511 0.33080986 0.37198899\n",
            " 0.35758111 0.3628749  0.36749646 0.37157768 0.37524587 0.37860098\n",
            " 0.38171273 0.38462576 0.38736883 0.38996062]\n",
            "10 day output [[0.39241433]]\n",
            "11 day input [0.32312464 0.33883919 0.35638908 0.35191558 0.35960089 0.34629505\n",
            " 0.37095669 0.36682729 0.36625373 0.34709798 0.34985088 0.34033042\n",
            " 0.34583622 0.33344803 0.32553343 0.32564816 0.35455384 0.34262449\n",
            " 0.33723333 0.34273922 0.34755681 0.32736867 0.32840106 0.38323005\n",
            " 0.34044506 0.31578351 0.3032806  0.31532468 0.29582474 0.30614823\n",
            " 0.31337462 0.31738937 0.33780689 0.34583622 0.32105994 0.29226891\n",
            " 0.29525127 0.27598079 0.26749254 0.27735719 0.30924532 0.30018359\n",
            " 0.30855702 0.3019041  0.29593947 0.31245705 0.31199822 0.33608629\n",
            " 0.42119762 0.37875664 0.37210372 0.34790091 0.3575362  0.34549212\n",
            " 0.35742147 0.35271851 0.25923384 0.23273688 0.24076629 0.24351919\n",
            " 0.20016064 0.18111953 0.13626984 0.16219324 0.19373718 0.20807533\n",
            " 0.22241348 0.19649008 0.22941041 0.22103698 0.23812803 0.26542793\n",
            " 0.25728378 0.22631341 0.25326912 0.27058963 0.26301904 0.25235146\n",
            " 0.25705441 0.25430151 0.29043358 0.34010096 0.33757743 0.33929802\n",
            " 0.32977747 0.32564816 0.34239511 0.33080986 0.37198899 0.35758111\n",
            " 0.3628749  0.36749646 0.37157768 0.37524587 0.37860098 0.38171273\n",
            " 0.38462576 0.38736883 0.38996062 0.39241433]\n",
            "11 day output [[0.39474058]]\n",
            "12 day input [0.33883919 0.35638908 0.35191558 0.35960089 0.34629505 0.37095669\n",
            " 0.36682729 0.36625373 0.34709798 0.34985088 0.34033042 0.34583622\n",
            " 0.33344803 0.32553343 0.32564816 0.35455384 0.34262449 0.33723333\n",
            " 0.34273922 0.34755681 0.32736867 0.32840106 0.38323005 0.34044506\n",
            " 0.31578351 0.3032806  0.31532468 0.29582474 0.30614823 0.31337462\n",
            " 0.31738937 0.33780689 0.34583622 0.32105994 0.29226891 0.29525127\n",
            " 0.27598079 0.26749254 0.27735719 0.30924532 0.30018359 0.30855702\n",
            " 0.3019041  0.29593947 0.31245705 0.31199822 0.33608629 0.42119762\n",
            " 0.37875664 0.37210372 0.34790091 0.3575362  0.34549212 0.35742147\n",
            " 0.35271851 0.25923384 0.23273688 0.24076629 0.24351919 0.20016064\n",
            " 0.18111953 0.13626984 0.16219324 0.19373718 0.20807533 0.22241348\n",
            " 0.19649008 0.22941041 0.22103698 0.23812803 0.26542793 0.25728378\n",
            " 0.22631341 0.25326912 0.27058963 0.26301904 0.25235146 0.25705441\n",
            " 0.25430151 0.29043358 0.34010096 0.33757743 0.33929802 0.32977747\n",
            " 0.32564816 0.34239511 0.33080986 0.37198899 0.35758111 0.3628749\n",
            " 0.36749646 0.37157768 0.37524587 0.37860098 0.38171273 0.38462576\n",
            " 0.38736883 0.38996062 0.39241433 0.39474058]\n",
            "12 day output [[0.3969489]]\n",
            "13 day input [0.35638908 0.35191558 0.35960089 0.34629505 0.37095669 0.36682729\n",
            " 0.36625373 0.34709798 0.34985088 0.34033042 0.34583622 0.33344803\n",
            " 0.32553343 0.32564816 0.35455384 0.34262449 0.33723333 0.34273922\n",
            " 0.34755681 0.32736867 0.32840106 0.38323005 0.34044506 0.31578351\n",
            " 0.3032806  0.31532468 0.29582474 0.30614823 0.31337462 0.31738937\n",
            " 0.33780689 0.34583622 0.32105994 0.29226891 0.29525127 0.27598079\n",
            " 0.26749254 0.27735719 0.30924532 0.30018359 0.30855702 0.3019041\n",
            " 0.29593947 0.31245705 0.31199822 0.33608629 0.42119762 0.37875664\n",
            " 0.37210372 0.34790091 0.3575362  0.34549212 0.35742147 0.35271851\n",
            " 0.25923384 0.23273688 0.24076629 0.24351919 0.20016064 0.18111953\n",
            " 0.13626984 0.16219324 0.19373718 0.20807533 0.22241348 0.19649008\n",
            " 0.22941041 0.22103698 0.23812803 0.26542793 0.25728378 0.22631341\n",
            " 0.25326912 0.27058963 0.26301904 0.25235146 0.25705441 0.25430151\n",
            " 0.29043358 0.34010096 0.33757743 0.33929802 0.32977747 0.32564816\n",
            " 0.34239511 0.33080986 0.37198899 0.35758111 0.3628749  0.36749646\n",
            " 0.37157768 0.37524587 0.37860098 0.38171273 0.38462576 0.38736883\n",
            " 0.38996062 0.39241433 0.39474058 0.3969489 ]\n",
            "13 day output [[0.399047]]\n",
            "14 day input [0.35191558 0.35960089 0.34629505 0.37095669 0.36682729 0.36625373\n",
            " 0.34709798 0.34985088 0.34033042 0.34583622 0.33344803 0.32553343\n",
            " 0.32564816 0.35455384 0.34262449 0.33723333 0.34273922 0.34755681\n",
            " 0.32736867 0.32840106 0.38323005 0.34044506 0.31578351 0.3032806\n",
            " 0.31532468 0.29582474 0.30614823 0.31337462 0.31738937 0.33780689\n",
            " 0.34583622 0.32105994 0.29226891 0.29525127 0.27598079 0.26749254\n",
            " 0.27735719 0.30924532 0.30018359 0.30855702 0.3019041  0.29593947\n",
            " 0.31245705 0.31199822 0.33608629 0.42119762 0.37875664 0.37210372\n",
            " 0.34790091 0.3575362  0.34549212 0.35742147 0.35271851 0.25923384\n",
            " 0.23273688 0.24076629 0.24351919 0.20016064 0.18111953 0.13626984\n",
            " 0.16219324 0.19373718 0.20807533 0.22241348 0.19649008 0.22941041\n",
            " 0.22103698 0.23812803 0.26542793 0.25728378 0.22631341 0.25326912\n",
            " 0.27058963 0.26301904 0.25235146 0.25705441 0.25430151 0.29043358\n",
            " 0.34010096 0.33757743 0.33929802 0.32977747 0.32564816 0.34239511\n",
            " 0.33080986 0.37198899 0.35758111 0.3628749  0.36749646 0.37157768\n",
            " 0.37524587 0.37860098 0.38171273 0.38462576 0.38736883 0.38996062\n",
            " 0.39241433 0.39474058 0.3969489  0.39904699]\n",
            "14 day output [[0.4010422]]\n",
            "15 day input [0.35960089 0.34629505 0.37095669 0.36682729 0.36625373 0.34709798\n",
            " 0.34985088 0.34033042 0.34583622 0.33344803 0.32553343 0.32564816\n",
            " 0.35455384 0.34262449 0.33723333 0.34273922 0.34755681 0.32736867\n",
            " 0.32840106 0.38323005 0.34044506 0.31578351 0.3032806  0.31532468\n",
            " 0.29582474 0.30614823 0.31337462 0.31738937 0.33780689 0.34583622\n",
            " 0.32105994 0.29226891 0.29525127 0.27598079 0.26749254 0.27735719\n",
            " 0.30924532 0.30018359 0.30855702 0.3019041  0.29593947 0.31245705\n",
            " 0.31199822 0.33608629 0.42119762 0.37875664 0.37210372 0.34790091\n",
            " 0.3575362  0.34549212 0.35742147 0.35271851 0.25923384 0.23273688\n",
            " 0.24076629 0.24351919 0.20016064 0.18111953 0.13626984 0.16219324\n",
            " 0.19373718 0.20807533 0.22241348 0.19649008 0.22941041 0.22103698\n",
            " 0.23812803 0.26542793 0.25728378 0.22631341 0.25326912 0.27058963\n",
            " 0.26301904 0.25235146 0.25705441 0.25430151 0.29043358 0.34010096\n",
            " 0.33757743 0.33929802 0.32977747 0.32564816 0.34239511 0.33080986\n",
            " 0.37198899 0.35758111 0.3628749  0.36749646 0.37157768 0.37524587\n",
            " 0.37860098 0.38171273 0.38462576 0.38736883 0.38996062 0.39241433\n",
            " 0.39474058 0.3969489  0.39904699 0.40104219]\n",
            "15 day output [[0.40294042]]\n",
            "16 day input [0.34629505 0.37095669 0.36682729 0.36625373 0.34709798 0.34985088\n",
            " 0.34033042 0.34583622 0.33344803 0.32553343 0.32564816 0.35455384\n",
            " 0.34262449 0.33723333 0.34273922 0.34755681 0.32736867 0.32840106\n",
            " 0.38323005 0.34044506 0.31578351 0.3032806  0.31532468 0.29582474\n",
            " 0.30614823 0.31337462 0.31738937 0.33780689 0.34583622 0.32105994\n",
            " 0.29226891 0.29525127 0.27598079 0.26749254 0.27735719 0.30924532\n",
            " 0.30018359 0.30855702 0.3019041  0.29593947 0.31245705 0.31199822\n",
            " 0.33608629 0.42119762 0.37875664 0.37210372 0.34790091 0.3575362\n",
            " 0.34549212 0.35742147 0.35271851 0.25923384 0.23273688 0.24076629\n",
            " 0.24351919 0.20016064 0.18111953 0.13626984 0.16219324 0.19373718\n",
            " 0.20807533 0.22241348 0.19649008 0.22941041 0.22103698 0.23812803\n",
            " 0.26542793 0.25728378 0.22631341 0.25326912 0.27058963 0.26301904\n",
            " 0.25235146 0.25705441 0.25430151 0.29043358 0.34010096 0.33757743\n",
            " 0.33929802 0.32977747 0.32564816 0.34239511 0.33080986 0.37198899\n",
            " 0.35758111 0.3628749  0.36749646 0.37157768 0.37524587 0.37860098\n",
            " 0.38171273 0.38462576 0.38736883 0.38996062 0.39241433 0.39474058\n",
            " 0.3969489  0.39904699 0.40104219 0.40294042]\n",
            "16 day output [[0.40474734]]\n",
            "17 day input [0.37095669 0.36682729 0.36625373 0.34709798 0.34985088 0.34033042\n",
            " 0.34583622 0.33344803 0.32553343 0.32564816 0.35455384 0.34262449\n",
            " 0.33723333 0.34273922 0.34755681 0.32736867 0.32840106 0.38323005\n",
            " 0.34044506 0.31578351 0.3032806  0.31532468 0.29582474 0.30614823\n",
            " 0.31337462 0.31738937 0.33780689 0.34583622 0.32105994 0.29226891\n",
            " 0.29525127 0.27598079 0.26749254 0.27735719 0.30924532 0.30018359\n",
            " 0.30855702 0.3019041  0.29593947 0.31245705 0.31199822 0.33608629\n",
            " 0.42119762 0.37875664 0.37210372 0.34790091 0.3575362  0.34549212\n",
            " 0.35742147 0.35271851 0.25923384 0.23273688 0.24076629 0.24351919\n",
            " 0.20016064 0.18111953 0.13626984 0.16219324 0.19373718 0.20807533\n",
            " 0.22241348 0.19649008 0.22941041 0.22103698 0.23812803 0.26542793\n",
            " 0.25728378 0.22631341 0.25326912 0.27058963 0.26301904 0.25235146\n",
            " 0.25705441 0.25430151 0.29043358 0.34010096 0.33757743 0.33929802\n",
            " 0.32977747 0.32564816 0.34239511 0.33080986 0.37198899 0.35758111\n",
            " 0.3628749  0.36749646 0.37157768 0.37524587 0.37860098 0.38171273\n",
            " 0.38462576 0.38736883 0.38996062 0.39241433 0.39474058 0.3969489\n",
            " 0.39904699 0.40104219 0.40294042 0.40474734]\n",
            "17 day output [[0.4064671]]\n",
            "18 day input [0.36682729 0.36625373 0.34709798 0.34985088 0.34033042 0.34583622\n",
            " 0.33344803 0.32553343 0.32564816 0.35455384 0.34262449 0.33723333\n",
            " 0.34273922 0.34755681 0.32736867 0.32840106 0.38323005 0.34044506\n",
            " 0.31578351 0.3032806  0.31532468 0.29582474 0.30614823 0.31337462\n",
            " 0.31738937 0.33780689 0.34583622 0.32105994 0.29226891 0.29525127\n",
            " 0.27598079 0.26749254 0.27735719 0.30924532 0.30018359 0.30855702\n",
            " 0.3019041  0.29593947 0.31245705 0.31199822 0.33608629 0.42119762\n",
            " 0.37875664 0.37210372 0.34790091 0.3575362  0.34549212 0.35742147\n",
            " 0.35271851 0.25923384 0.23273688 0.24076629 0.24351919 0.20016064\n",
            " 0.18111953 0.13626984 0.16219324 0.19373718 0.20807533 0.22241348\n",
            " 0.19649008 0.22941041 0.22103698 0.23812803 0.26542793 0.25728378\n",
            " 0.22631341 0.25326912 0.27058963 0.26301904 0.25235146 0.25705441\n",
            " 0.25430151 0.29043358 0.34010096 0.33757743 0.33929802 0.32977747\n",
            " 0.32564816 0.34239511 0.33080986 0.37198899 0.35758111 0.3628749\n",
            " 0.36749646 0.37157768 0.37524587 0.37860098 0.38171273 0.38462576\n",
            " 0.38736883 0.38996062 0.39241433 0.39474058 0.3969489  0.39904699\n",
            " 0.40104219 0.40294042 0.40474734 0.40646711]\n",
            "18 day output [[0.40810388]]\n",
            "19 day input [0.36625373 0.34709798 0.34985088 0.34033042 0.34583622 0.33344803\n",
            " 0.32553343 0.32564816 0.35455384 0.34262449 0.33723333 0.34273922\n",
            " 0.34755681 0.32736867 0.32840106 0.38323005 0.34044506 0.31578351\n",
            " 0.3032806  0.31532468 0.29582474 0.30614823 0.31337462 0.31738937\n",
            " 0.33780689 0.34583622 0.32105994 0.29226891 0.29525127 0.27598079\n",
            " 0.26749254 0.27735719 0.30924532 0.30018359 0.30855702 0.3019041\n",
            " 0.29593947 0.31245705 0.31199822 0.33608629 0.42119762 0.37875664\n",
            " 0.37210372 0.34790091 0.3575362  0.34549212 0.35742147 0.35271851\n",
            " 0.25923384 0.23273688 0.24076629 0.24351919 0.20016064 0.18111953\n",
            " 0.13626984 0.16219324 0.19373718 0.20807533 0.22241348 0.19649008\n",
            " 0.22941041 0.22103698 0.23812803 0.26542793 0.25728378 0.22631341\n",
            " 0.25326912 0.27058963 0.26301904 0.25235146 0.25705441 0.25430151\n",
            " 0.29043358 0.34010096 0.33757743 0.33929802 0.32977747 0.32564816\n",
            " 0.34239511 0.33080986 0.37198899 0.35758111 0.3628749  0.36749646\n",
            " 0.37157768 0.37524587 0.37860098 0.38171273 0.38462576 0.38736883\n",
            " 0.38996062 0.39241433 0.39474058 0.3969489  0.39904699 0.40104219\n",
            " 0.40294042 0.40474734 0.40646711 0.40810388]\n",
            "19 day output [[0.4096607]]\n",
            "20 day input [0.34709798 0.34985088 0.34033042 0.34583622 0.33344803 0.32553343\n",
            " 0.32564816 0.35455384 0.34262449 0.33723333 0.34273922 0.34755681\n",
            " 0.32736867 0.32840106 0.38323005 0.34044506 0.31578351 0.3032806\n",
            " 0.31532468 0.29582474 0.30614823 0.31337462 0.31738937 0.33780689\n",
            " 0.34583622 0.32105994 0.29226891 0.29525127 0.27598079 0.26749254\n",
            " 0.27735719 0.30924532 0.30018359 0.30855702 0.3019041  0.29593947\n",
            " 0.31245705 0.31199822 0.33608629 0.42119762 0.37875664 0.37210372\n",
            " 0.34790091 0.3575362  0.34549212 0.35742147 0.35271851 0.25923384\n",
            " 0.23273688 0.24076629 0.24351919 0.20016064 0.18111953 0.13626984\n",
            " 0.16219324 0.19373718 0.20807533 0.22241348 0.19649008 0.22941041\n",
            " 0.22103698 0.23812803 0.26542793 0.25728378 0.22631341 0.25326912\n",
            " 0.27058963 0.26301904 0.25235146 0.25705441 0.25430151 0.29043358\n",
            " 0.34010096 0.33757743 0.33929802 0.32977747 0.32564816 0.34239511\n",
            " 0.33080986 0.37198899 0.35758111 0.3628749  0.36749646 0.37157768\n",
            " 0.37524587 0.37860098 0.38171273 0.38462576 0.38736883 0.38996062\n",
            " 0.39241433 0.39474058 0.3969489  0.39904699 0.40104219 0.40294042\n",
            " 0.40474734 0.40646711 0.40810388 0.4096607 ]\n",
            "20 day output [[0.4111406]]\n",
            "21 day input [0.34985088 0.34033042 0.34583622 0.33344803 0.32553343 0.32564816\n",
            " 0.35455384 0.34262449 0.33723333 0.34273922 0.34755681 0.32736867\n",
            " 0.32840106 0.38323005 0.34044506 0.31578351 0.3032806  0.31532468\n",
            " 0.29582474 0.30614823 0.31337462 0.31738937 0.33780689 0.34583622\n",
            " 0.32105994 0.29226891 0.29525127 0.27598079 0.26749254 0.27735719\n",
            " 0.30924532 0.30018359 0.30855702 0.3019041  0.29593947 0.31245705\n",
            " 0.31199822 0.33608629 0.42119762 0.37875664 0.37210372 0.34790091\n",
            " 0.3575362  0.34549212 0.35742147 0.35271851 0.25923384 0.23273688\n",
            " 0.24076629 0.24351919 0.20016064 0.18111953 0.13626984 0.16219324\n",
            " 0.19373718 0.20807533 0.22241348 0.19649008 0.22941041 0.22103698\n",
            " 0.23812803 0.26542793 0.25728378 0.22631341 0.25326912 0.27058963\n",
            " 0.26301904 0.25235146 0.25705441 0.25430151 0.29043358 0.34010096\n",
            " 0.33757743 0.33929802 0.32977747 0.32564816 0.34239511 0.33080986\n",
            " 0.37198899 0.35758111 0.3628749  0.36749646 0.37157768 0.37524587\n",
            " 0.37860098 0.38171273 0.38462576 0.38736883 0.38996062 0.39241433\n",
            " 0.39474058 0.3969489  0.39904699 0.40104219 0.40294042 0.40474734\n",
            " 0.40646711 0.40810388 0.4096607  0.41114059]\n",
            "21 day output [[0.41254607]]\n",
            "22 day input [0.34033042 0.34583622 0.33344803 0.32553343 0.32564816 0.35455384\n",
            " 0.34262449 0.33723333 0.34273922 0.34755681 0.32736867 0.32840106\n",
            " 0.38323005 0.34044506 0.31578351 0.3032806  0.31532468 0.29582474\n",
            " 0.30614823 0.31337462 0.31738937 0.33780689 0.34583622 0.32105994\n",
            " 0.29226891 0.29525127 0.27598079 0.26749254 0.27735719 0.30924532\n",
            " 0.30018359 0.30855702 0.3019041  0.29593947 0.31245705 0.31199822\n",
            " 0.33608629 0.42119762 0.37875664 0.37210372 0.34790091 0.3575362\n",
            " 0.34549212 0.35742147 0.35271851 0.25923384 0.23273688 0.24076629\n",
            " 0.24351919 0.20016064 0.18111953 0.13626984 0.16219324 0.19373718\n",
            " 0.20807533 0.22241348 0.19649008 0.22941041 0.22103698 0.23812803\n",
            " 0.26542793 0.25728378 0.22631341 0.25326912 0.27058963 0.26301904\n",
            " 0.25235146 0.25705441 0.25430151 0.29043358 0.34010096 0.33757743\n",
            " 0.33929802 0.32977747 0.32564816 0.34239511 0.33080986 0.37198899\n",
            " 0.35758111 0.3628749  0.36749646 0.37157768 0.37524587 0.37860098\n",
            " 0.38171273 0.38462576 0.38736883 0.38996062 0.39241433 0.39474058\n",
            " 0.3969489  0.39904699 0.40104219 0.40294042 0.40474734 0.40646711\n",
            " 0.40810388 0.4096607  0.41114059 0.41254607]\n",
            "22 day output [[0.41387954]]\n",
            "23 day input [0.34583622 0.33344803 0.32553343 0.32564816 0.35455384 0.34262449\n",
            " 0.33723333 0.34273922 0.34755681 0.32736867 0.32840106 0.38323005\n",
            " 0.34044506 0.31578351 0.3032806  0.31532468 0.29582474 0.30614823\n",
            " 0.31337462 0.31738937 0.33780689 0.34583622 0.32105994 0.29226891\n",
            " 0.29525127 0.27598079 0.26749254 0.27735719 0.30924532 0.30018359\n",
            " 0.30855702 0.3019041  0.29593947 0.31245705 0.31199822 0.33608629\n",
            " 0.42119762 0.37875664 0.37210372 0.34790091 0.3575362  0.34549212\n",
            " 0.35742147 0.35271851 0.25923384 0.23273688 0.24076629 0.24351919\n",
            " 0.20016064 0.18111953 0.13626984 0.16219324 0.19373718 0.20807533\n",
            " 0.22241348 0.19649008 0.22941041 0.22103698 0.23812803 0.26542793\n",
            " 0.25728378 0.22631341 0.25326912 0.27058963 0.26301904 0.25235146\n",
            " 0.25705441 0.25430151 0.29043358 0.34010096 0.33757743 0.33929802\n",
            " 0.32977747 0.32564816 0.34239511 0.33080986 0.37198899 0.35758111\n",
            " 0.3628749  0.36749646 0.37157768 0.37524587 0.37860098 0.38171273\n",
            " 0.38462576 0.38736883 0.38996062 0.39241433 0.39474058 0.3969489\n",
            " 0.39904699 0.40104219 0.40294042 0.40474734 0.40646711 0.40810388\n",
            " 0.4096607  0.41114059 0.41254607 0.41387954]\n",
            "23 day output [[0.41514328]]\n",
            "24 day input [0.33344803 0.32553343 0.32564816 0.35455384 0.34262449 0.33723333\n",
            " 0.34273922 0.34755681 0.32736867 0.32840106 0.38323005 0.34044506\n",
            " 0.31578351 0.3032806  0.31532468 0.29582474 0.30614823 0.31337462\n",
            " 0.31738937 0.33780689 0.34583622 0.32105994 0.29226891 0.29525127\n",
            " 0.27598079 0.26749254 0.27735719 0.30924532 0.30018359 0.30855702\n",
            " 0.3019041  0.29593947 0.31245705 0.31199822 0.33608629 0.42119762\n",
            " 0.37875664 0.37210372 0.34790091 0.3575362  0.34549212 0.35742147\n",
            " 0.35271851 0.25923384 0.23273688 0.24076629 0.24351919 0.20016064\n",
            " 0.18111953 0.13626984 0.16219324 0.19373718 0.20807533 0.22241348\n",
            " 0.19649008 0.22941041 0.22103698 0.23812803 0.26542793 0.25728378\n",
            " 0.22631341 0.25326912 0.27058963 0.26301904 0.25235146 0.25705441\n",
            " 0.25430151 0.29043358 0.34010096 0.33757743 0.33929802 0.32977747\n",
            " 0.32564816 0.34239511 0.33080986 0.37198899 0.35758111 0.3628749\n",
            " 0.36749646 0.37157768 0.37524587 0.37860098 0.38171273 0.38462576\n",
            " 0.38736883 0.38996062 0.39241433 0.39474058 0.3969489  0.39904699\n",
            " 0.40104219 0.40294042 0.40474734 0.40646711 0.40810388 0.4096607\n",
            " 0.41114059 0.41254607 0.41387954 0.41514328]\n",
            "24 day output [[0.4163398]]\n",
            "25 day input [0.32553343 0.32564816 0.35455384 0.34262449 0.33723333 0.34273922\n",
            " 0.34755681 0.32736867 0.32840106 0.38323005 0.34044506 0.31578351\n",
            " 0.3032806  0.31532468 0.29582474 0.30614823 0.31337462 0.31738937\n",
            " 0.33780689 0.34583622 0.32105994 0.29226891 0.29525127 0.27598079\n",
            " 0.26749254 0.27735719 0.30924532 0.30018359 0.30855702 0.3019041\n",
            " 0.29593947 0.31245705 0.31199822 0.33608629 0.42119762 0.37875664\n",
            " 0.37210372 0.34790091 0.3575362  0.34549212 0.35742147 0.35271851\n",
            " 0.25923384 0.23273688 0.24076629 0.24351919 0.20016064 0.18111953\n",
            " 0.13626984 0.16219324 0.19373718 0.20807533 0.22241348 0.19649008\n",
            " 0.22941041 0.22103698 0.23812803 0.26542793 0.25728378 0.22631341\n",
            " 0.25326912 0.27058963 0.26301904 0.25235146 0.25705441 0.25430151\n",
            " 0.29043358 0.34010096 0.33757743 0.33929802 0.32977747 0.32564816\n",
            " 0.34239511 0.33080986 0.37198899 0.35758111 0.3628749  0.36749646\n",
            " 0.37157768 0.37524587 0.37860098 0.38171273 0.38462576 0.38736883\n",
            " 0.38996062 0.39241433 0.39474058 0.3969489  0.39904699 0.40104219\n",
            " 0.40294042 0.40474734 0.40646711 0.40810388 0.4096607  0.41114059\n",
            " 0.41254607 0.41387954 0.41514328 0.41633981]\n",
            "25 day output [[0.417471]]\n",
            "26 day input [0.32564816 0.35455384 0.34262449 0.33723333 0.34273922 0.34755681\n",
            " 0.32736867 0.32840106 0.38323005 0.34044506 0.31578351 0.3032806\n",
            " 0.31532468 0.29582474 0.30614823 0.31337462 0.31738937 0.33780689\n",
            " 0.34583622 0.32105994 0.29226891 0.29525127 0.27598079 0.26749254\n",
            " 0.27735719 0.30924532 0.30018359 0.30855702 0.3019041  0.29593947\n",
            " 0.31245705 0.31199822 0.33608629 0.42119762 0.37875664 0.37210372\n",
            " 0.34790091 0.3575362  0.34549212 0.35742147 0.35271851 0.25923384\n",
            " 0.23273688 0.24076629 0.24351919 0.20016064 0.18111953 0.13626984\n",
            " 0.16219324 0.19373718 0.20807533 0.22241348 0.19649008 0.22941041\n",
            " 0.22103698 0.23812803 0.26542793 0.25728378 0.22631341 0.25326912\n",
            " 0.27058963 0.26301904 0.25235146 0.25705441 0.25430151 0.29043358\n",
            " 0.34010096 0.33757743 0.33929802 0.32977747 0.32564816 0.34239511\n",
            " 0.33080986 0.37198899 0.35758111 0.3628749  0.36749646 0.37157768\n",
            " 0.37524587 0.37860098 0.38171273 0.38462576 0.38736883 0.38996062\n",
            " 0.39241433 0.39474058 0.3969489  0.39904699 0.40104219 0.40294042\n",
            " 0.40474734 0.40646711 0.40810388 0.4096607  0.41114059 0.41254607\n",
            " 0.41387954 0.41514328 0.41633981 0.41747099]\n",
            "26 day output [[0.41853946]]\n",
            "27 day input [0.35455384 0.34262449 0.33723333 0.34273922 0.34755681 0.32736867\n",
            " 0.32840106 0.38323005 0.34044506 0.31578351 0.3032806  0.31532468\n",
            " 0.29582474 0.30614823 0.31337462 0.31738937 0.33780689 0.34583622\n",
            " 0.32105994 0.29226891 0.29525127 0.27598079 0.26749254 0.27735719\n",
            " 0.30924532 0.30018359 0.30855702 0.3019041  0.29593947 0.31245705\n",
            " 0.31199822 0.33608629 0.42119762 0.37875664 0.37210372 0.34790091\n",
            " 0.3575362  0.34549212 0.35742147 0.35271851 0.25923384 0.23273688\n",
            " 0.24076629 0.24351919 0.20016064 0.18111953 0.13626984 0.16219324\n",
            " 0.19373718 0.20807533 0.22241348 0.19649008 0.22941041 0.22103698\n",
            " 0.23812803 0.26542793 0.25728378 0.22631341 0.25326912 0.27058963\n",
            " 0.26301904 0.25235146 0.25705441 0.25430151 0.29043358 0.34010096\n",
            " 0.33757743 0.33929802 0.32977747 0.32564816 0.34239511 0.33080986\n",
            " 0.37198899 0.35758111 0.3628749  0.36749646 0.37157768 0.37524587\n",
            " 0.37860098 0.38171273 0.38462576 0.38736883 0.38996062 0.39241433\n",
            " 0.39474058 0.3969489  0.39904699 0.40104219 0.40294042 0.40474734\n",
            " 0.40646711 0.40810388 0.4096607  0.41114059 0.41254607 0.41387954\n",
            " 0.41514328 0.41633981 0.41747099 0.41853946]\n",
            "27 day output [[0.41954735]]\n",
            "28 day input [0.34262449 0.33723333 0.34273922 0.34755681 0.32736867 0.32840106\n",
            " 0.38323005 0.34044506 0.31578351 0.3032806  0.31532468 0.29582474\n",
            " 0.30614823 0.31337462 0.31738937 0.33780689 0.34583622 0.32105994\n",
            " 0.29226891 0.29525127 0.27598079 0.26749254 0.27735719 0.30924532\n",
            " 0.30018359 0.30855702 0.3019041  0.29593947 0.31245705 0.31199822\n",
            " 0.33608629 0.42119762 0.37875664 0.37210372 0.34790091 0.3575362\n",
            " 0.34549212 0.35742147 0.35271851 0.25923384 0.23273688 0.24076629\n",
            " 0.24351919 0.20016064 0.18111953 0.13626984 0.16219324 0.19373718\n",
            " 0.20807533 0.22241348 0.19649008 0.22941041 0.22103698 0.23812803\n",
            " 0.26542793 0.25728378 0.22631341 0.25326912 0.27058963 0.26301904\n",
            " 0.25235146 0.25705441 0.25430151 0.29043358 0.34010096 0.33757743\n",
            " 0.33929802 0.32977747 0.32564816 0.34239511 0.33080986 0.37198899\n",
            " 0.35758111 0.3628749  0.36749646 0.37157768 0.37524587 0.37860098\n",
            " 0.38171273 0.38462576 0.38736883 0.38996062 0.39241433 0.39474058\n",
            " 0.3969489  0.39904699 0.40104219 0.40294042 0.40474734 0.40646711\n",
            " 0.40810388 0.4096607  0.41114059 0.41254607 0.41387954 0.41514328\n",
            " 0.41633981 0.41747099 0.41853946 0.41954735]\n",
            "28 day output [[0.4204972]]\n",
            "29 day input [0.33723333 0.34273922 0.34755681 0.32736867 0.32840106 0.38323005\n",
            " 0.34044506 0.31578351 0.3032806  0.31532468 0.29582474 0.30614823\n",
            " 0.31337462 0.31738937 0.33780689 0.34583622 0.32105994 0.29226891\n",
            " 0.29525127 0.27598079 0.26749254 0.27735719 0.30924532 0.30018359\n",
            " 0.30855702 0.3019041  0.29593947 0.31245705 0.31199822 0.33608629\n",
            " 0.42119762 0.37875664 0.37210372 0.34790091 0.3575362  0.34549212\n",
            " 0.35742147 0.35271851 0.25923384 0.23273688 0.24076629 0.24351919\n",
            " 0.20016064 0.18111953 0.13626984 0.16219324 0.19373718 0.20807533\n",
            " 0.22241348 0.19649008 0.22941041 0.22103698 0.23812803 0.26542793\n",
            " 0.25728378 0.22631341 0.25326912 0.27058963 0.26301904 0.25235146\n",
            " 0.25705441 0.25430151 0.29043358 0.34010096 0.33757743 0.33929802\n",
            " 0.32977747 0.32564816 0.34239511 0.33080986 0.37198899 0.35758111\n",
            " 0.3628749  0.36749646 0.37157768 0.37524587 0.37860098 0.38171273\n",
            " 0.38462576 0.38736883 0.38996062 0.39241433 0.39474058 0.3969489\n",
            " 0.39904699 0.40104219 0.40294042 0.40474734 0.40646711 0.40810388\n",
            " 0.4096607  0.41114059 0.41254607 0.41387954 0.41514328 0.41633981\n",
            " 0.41747099 0.41853946 0.41954735 0.42049721]\n",
            "29 day output [[0.42139158]]\n"
          ],
          "name": "stdout"
        }
      ]
    },
    {
      "cell_type": "code",
      "metadata": {
        "colab": {
          "base_uri": "https://localhost:8080/"
        },
        "id": "_6eh-f-PtlEi",
        "outputId": "d87131c3-35a1-41c0-9f20-2de3cf72c4ef"
      },
      "source": [
        "print(lst_output)\r\n"
      ],
      "execution_count": null,
      "outputs": [
        {
          "output_type": "stream",
          "text": [
            "[[0.35758110880851746], [0.3628748953342438], [0.36749646067619324], [0.3715776801109314], [0.3752458691596985], [0.37860098481178284], [0.38171273469924927], [0.38462576270103455], [0.3873688280582428], [0.3899606168270111], [0.3924143314361572], [0.39474058151245117], [0.396948903799057], [0.39904698729515076], [0.4010421931743622], [0.40294042229652405], [0.40474733710289], [0.40646710991859436], [0.408103883266449], [0.4096606969833374], [0.4111405909061432], [0.4125460684299469], [0.41387954354286194], [0.41514328122138977], [0.41633981466293335], [0.4174709916114807], [0.41853946447372437], [0.41954734921455383], [0.42049720883369446], [0.4213915765285492]]\n"
          ],
          "name": "stdout"
        }
      ]
    },
    {
      "cell_type": "code",
      "metadata": {
        "id": "TOOF3FwmtqfL"
      },
      "source": [
        "day_new=np.arange(1,101)\r\n",
        "day_pred=np.arange(101,131)"
      ],
      "execution_count": null,
      "outputs": []
    },
    {
      "cell_type": "code",
      "metadata": {
        "colab": {
          "base_uri": "https://localhost:8080/"
        },
        "id": "3RB6y9aQtxNp",
        "outputId": "8e0be8bf-5655-4fbf-879b-3cad6366bff0"
      },
      "source": [
        "len(data1)\r\n"
      ],
      "execution_count": null,
      "outputs": [
        {
          "output_type": "execute_result",
          "data": {
            "text/plain": [
              "989"
            ]
          },
          "metadata": {
            "tags": []
          },
          "execution_count": 50
        }
      ]
    },
    {
      "cell_type": "code",
      "metadata": {
        "colab": {
          "base_uri": "https://localhost:8080/",
          "height": 282
        },
        "id": "i5l4TiRMt5dm",
        "outputId": "cc65e24a-9991-42a5-8272-7d19a734eaab"
      },
      "source": [
        "plt.plot(day_new,scaler.inverse_transform(data1[889:]))\r\n",
        "plt.plot(day_pred,scaler.inverse_transform(lst_output))\r\n"
      ],
      "execution_count": null,
      "outputs": [
        {
          "output_type": "execute_result",
          "data": {
            "text/plain": [
              "[<matplotlib.lines.Line2D at 0x7fe8e84b29e8>]"
            ]
          },
          "metadata": {
            "tags": []
          },
          "execution_count": 51
        },
        {
          "output_type": "display_data",
          "data": {
            "image/png": "[encoded data removed]",
            "text/plain": [
              "<Figure size 432x288 with 1 Axes>"
            ]
          },
          "metadata": {
            "tags": [],
            "needs_background": "light"
          }
        }
      ]
    },
    {
      "cell_type": "code",
      "metadata": {
        "colab": {
          "base_uri": "https://localhost:8080/",
          "height": 282
        },
        "id": "vQK8PmaTt-7n",
        "outputId": "78722074-5e7d-4bf4-9473-6085f2c6cbf3"
      },
      "source": [
        "df3=data1.tolist()\r\n",
        "df3.extend(lst_output)\r\n",
        "plt.plot(df3[780:])"
      ],
      "execution_count": null,
      "outputs": [
        {
          "output_type": "execute_result",
          "data": {
            "text/plain": [
              "[<matplotlib.lines.Line2D at 0x7fe8e7dbce10>]"
            ]
          },
          "metadata": {
            "tags": []
          },
          "execution_count": 52
        },
        {
          "output_type": "display_data",
          "data": {
            "image/png": "[encoded data removed]",
            "text/plain": [
              "<Figure size 432x288 with 1 Axes>"
            ]
          },
          "metadata": {
            "tags": [],
            "needs_background": "light"
          }
        }
      ]
    },
    {
      "cell_type": "code",
      "metadata": {
        "id": "pY9otw9AuDDa"
      },
      "source": [
        "df3=scaler.inverse_transform(df3).tolist()"
      ],
      "execution_count": null,
      "outputs": []
    },
    {
      "cell_type": "code",
      "metadata": {
        "colab": {
          "base_uri": "https://localhost:8080/",
          "height": 282
        },
        "id": "jwre20w2uGsd",
        "outputId": "89569c8b-0176-4665-aa2a-ebbb527ddc0f"
      },
      "source": [
        "plt.plot(df3)\r\n"
      ],
      "execution_count": null,
      "outputs": [
        {
          "output_type": "execute_result",
          "data": {
            "text/plain": [
              "[<matplotlib.lines.Line2D at 0x7fe8e7cbed30>]"
            ]
          },
          "metadata": {
            "tags": []
          },
          "execution_count": 54
        },
        {
          "output_type": "display_data",
          "data": {
            "image/png": "[encoded data removed]",
            "text/plain": [
              "<Figure size 432x288 with 1 Axes>"
            ]
          },
          "metadata": {
            "tags": [],
            "needs_background": "light"
          }
        }
      ]
    },
    {
      "cell_type": "code",
      "metadata": {
        "id": "jQZhishvuKWw"
      },
      "source": [
        "import pandas as pd"
      ],
      "execution_count": null,
      "outputs": []
    },
    {
      "cell_type": "code",
      "metadata": {
        "id": "jlG5tZ-RuOfg"
      },
      "source": [
        "df=pd.read_csv('/content/india-news-headlines.csv')"
      ],
      "execution_count": null,
      "outputs": []
    },
    {
      "cell_type": "code",
      "metadata": {
        "colab": {
          "base_uri": "https://localhost:8080/",
          "height": 195
        },
        "id": "wJOtMACpuSLA",
        "outputId": "e0766f21-8871-46e0-9719-1a6d06b91278"
      },
      "source": [
        "df.head()"
      ],
      "execution_count": null,
      "outputs": [
        {
          "output_type": "execute_result",
          "data": {
            "text/html": [
              "<div>\n",
              "<style scoped>\n",
              "    .dataframe tbody tr th:only-of-type {\n",
              "        vertical-align: middle;\n",
              "    }\n",
              "\n",
              "    .dataframe tbody tr th {\n",
              "        vertical-align: top;\n",
              "    }\n",
              "\n",
              "    .dataframe thead th {\n",
              "        text-align: right;\n",
              "    }\n",
              "</style>\n",
              "<table border=\"1\" class=\"dataframe\">\n",
              "  <thead>\n",
              "    <tr style=\"text-align: right;\">\n",
              "      <th></th>\n",
              "      <th>publish_date</th>\n",
              "      <th>headline_category</th>\n",
              "      <th>headline_text</th>\n",
              "    </tr>\n",
              "  </thead>\n",
              "  <tbody>\n",
              "    <tr>\n",
              "      <th>0</th>\n",
              "      <td>20010101</td>\n",
              "      <td>sports.wwe</td>\n",
              "      <td>win over cena satisfying but defeating underta...</td>\n",
              "    </tr>\n",
              "    <tr>\n",
              "      <th>1</th>\n",
              "      <td>20010102</td>\n",
              "      <td>unknown</td>\n",
              "      <td>Status quo will not be disturbed at Ayodhya; s...</td>\n",
              "    </tr>\n",
              "    <tr>\n",
              "      <th>2</th>\n",
              "      <td>20010102</td>\n",
              "      <td>unknown</td>\n",
              "      <td>Fissures in Hurriyat over Pak visit</td>\n",
              "    </tr>\n",
              "    <tr>\n",
              "      <th>3</th>\n",
              "      <td>20010102</td>\n",
              "      <td>unknown</td>\n",
              "      <td>America's unwanted heading for India?</td>\n",
              "    </tr>\n",
              "    <tr>\n",
              "      <th>4</th>\n",
              "      <td>20010102</td>\n",
              "      <td>unknown</td>\n",
              "      <td>For bigwigs; it is destination Goa</td>\n",
              "    </tr>\n",
              "  </tbody>\n",
              "</table>\n",
              "</div>"
            ],
            "text/plain": [
              "   publish_date  ...                                      headline_text\n",
              "0      20010101  ...  win over cena satisfying but defeating underta...\n",
              "1      20010102  ...  Status quo will not be disturbed at Ayodhya; s...\n",
              "2      20010102  ...                Fissures in Hurriyat over Pak visit\n",
              "3      20010102  ...              America's unwanted heading for India?\n",
              "4      20010102  ...                 For bigwigs; it is destination Goa\n",
              "\n",
              "[5 rows x 3 columns]"
            ]
          },
          "metadata": {
            "tags": []
          },
          "execution_count": 59
        }
      ]
    },
    {
      "cell_type": "code",
      "metadata": {
        "id": "j3DT6pmYyLrf"
      },
      "source": [
        "\r\n",
        "train = df[df['headline_category'] < '20150101']\r\n",
        "test = df[df['headline_category'] > '20141231']"
      ],
      "execution_count": null,
      "outputs": []
    },
    {
      "cell_type": "code",
      "metadata": {
        "colab": {
          "base_uri": "https://localhost:8080/",
          "height": 35
        },
        "id": "TatlgmzT93zA",
        "outputId": "90a12a70-5d73-437b-9e3b-f52aaea4d973"
      },
      "source": [
        "' '.join(str(x) for x in data.iloc[1,0:25])"
      ],
      "execution_count": null,
      "outputs": [
        {
          "output_type": "execute_result",
          "data": {
            "application/vnd.google.colaboratory.intrinsic+json": {
              "type": "string"
            },
            "text/plain": [
              "'Sahab Bahadur Manekshaw'"
            ]
          },
          "metadata": {
            "tags": []
          },
          "execution_count": 68
        }
      ]
    },
    {
      "cell_type": "code",
      "metadata": {
        "id": "1QXMYww199iH"
      },
      "source": [
        "\r\n",
        "headlines = []\r\n",
        "for row in range(0,len(data.index)):\r\n",
        "    headlines.append(' '.join(str(x) for x in data.iloc[row,0:25]))"
      ],
      "execution_count": null,
      "outputs": []
    },
    {
      "cell_type": "code",
      "metadata": {
        "colab": {
          "base_uri": "https://localhost:8080/",
          "height": 35
        },
        "id": "a2mR9Rcd-BqC",
        "outputId": "7150c892-b254-4b52-9844-731a81ca9a0f"
      },
      "source": [
        "headlines[0]"
      ],
      "execution_count": null,
      "outputs": [
        {
          "output_type": "execute_result",
          "data": {
            "application/vnd.google.colaboratory.intrinsic+json": {
              "type": "string"
            },
            "text/plain": [
              "'Uncensored pics of Mumbai terror'"
            ]
          },
          "metadata": {
            "tags": []
          },
          "execution_count": 70
        }
      ]
    }
  ]
}